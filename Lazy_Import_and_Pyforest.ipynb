{
  "nbformat": 4,
  "nbformat_minor": 0,
  "metadata": {
    "colab": {
      "name": "Lazy Import and Pyforest.ipynb",
      "provenance": [],
      "authorship_tag": "ABX9TyOAiQ2DvpwSbVyxUiE1Y/8W",
      "include_colab_link": true
    },
    "kernelspec": {
      "name": "python3",
      "display_name": "Python 3"
    },
    "language_info": {
      "name": "python"
    }
  },
  "cells": [
    {
      "cell_type": "markdown",
      "metadata": {
        "id": "view-in-github",
        "colab_type": "text"
      },
      "source": [
        "<a href=\"https://colab.research.google.com/github/Yasir323/lazy-import/blob/main/Lazy_Import_and_Pyforest.ipynb\" target=\"_parent\"><img src=\"https://colab.research.google.com/assets/colab-badge.svg\" alt=\"Open In Colab\"/></a>"
      ]
    },
    {
      "cell_type": "markdown",
      "metadata": {
        "id": "SekSCOcp_tD0"
      },
      "source": [
        "# Lets ignore all the warnings first"
      ]
    },
    {
      "cell_type": "code",
      "metadata": {
        "id": "I6mScttMmeKj"
      },
      "source": [
        "import warnings\n",
        "warnings.filterwarnings('ignore')"
      ],
      "execution_count": 1,
      "outputs": []
    },
    {
      "cell_type": "code",
      "metadata": {
        "id": "zs8s06qKn2Qo"
      },
      "source": [
        "# Set the seed\n",
        "SEED = 42"
      ],
      "execution_count": 60,
      "outputs": []
    },
    {
      "cell_type": "markdown",
      "metadata": {
        "id": "_mzdeDb0_63L"
      },
      "source": [
        "# Classification Problem"
      ]
    },
    {
      "cell_type": "markdown",
      "metadata": {
        "id": "eAcDKhiHhS9M"
      },
      "source": [
        "## Load the dataset"
      ]
    },
    {
      "cell_type": "code",
      "metadata": {
        "id": "i1KobAjogs62"
      },
      "source": [
        "from sklearn.datasets import load_iris"
      ],
      "execution_count": 3,
      "outputs": []
    },
    {
      "cell_type": "code",
      "metadata": {
        "id": "ALCCggNZhbP1"
      },
      "source": [
        "data = load_iris()\n",
        "X = data.data\n",
        "y= data.target"
      ],
      "execution_count": 4,
      "outputs": []
    },
    {
      "cell_type": "code",
      "metadata": {
        "id": "1HN20-bXheqZ"
      },
      "source": [
        "# reg_data = sns.load_dataset('anscombe')\n",
        "# reg_data.head()"
      ],
      "execution_count": 5,
      "outputs": []
    },
    {
      "cell_type": "code",
      "metadata": {
        "id": "q3mTffPbi4vh"
      },
      "source": [
        "# Lets plot the data first\n",
        "# g = sns.FacetGrid(reg_data, col=\"dataset\", hue=\"dataset\")\n",
        "# g.map_dataframe(sns.scatterplot, x=\"x\", y=\"y\")\n",
        "# g.set_axis_labels(\"x\", \"y\")\n",
        "# g.add_legend()"
      ],
      "execution_count": 6,
      "outputs": []
    },
    {
      "cell_type": "markdown",
      "metadata": {
        "id": "J7nXg5a8l8U8"
      },
      "source": [
        "# Importing everything with just one line"
      ]
    },
    {
      "cell_type": "code",
      "metadata": {
        "colab": {
          "base_uri": "https://localhost:8080/"
        },
        "id": "s9AWdaDDlk5x",
        "outputId": "27366f47-b4ed-4a8b-e3a2-2f5c7f34e357"
      },
      "source": [
        "!pip install pyforest"
      ],
      "execution_count": 7,
      "outputs": [
        {
          "output_type": "stream",
          "text": [
            "Requirement already satisfied: pyforest in /usr/local/lib/python3.7/dist-packages (1.0.3)\n"
          ],
          "name": "stdout"
        }
      ]
    },
    {
      "cell_type": "code",
      "metadata": {
        "id": "vdevTDeAmFd1"
      },
      "source": [
        "import pyforest as pf"
      ],
      "execution_count": 8,
      "outputs": []
    },
    {
      "cell_type": "code",
      "metadata": {
        "colab": {
          "base_uri": "https://localhost:8080/"
        },
        "id": "rgGTEz5EmNKc",
        "outputId": "f65b812f-2ebf-4332-aa1f-0a47df8e62d6"
      },
      "source": [
        "# Lets check what has actually been imported for us\n",
        "pf.lazy_imports()"
      ],
      "execution_count": 9,
      "outputs": [
        {
          "output_type": "execute_result",
          "data": {
            "text/plain": [
              "['from sklearn.ensemble import RandomForestRegressor',\n",
              " 'from sklearn.ensemble import GradientBoostingRegressor',\n",
              " 'import awswrangler as wr',\n",
              " 'import seaborn as sns',\n",
              " 'from pyspark import SparkContext',\n",
              " 'from sklearn.ensemble import RandomForestClassifier',\n",
              " 'import dash',\n",
              " 'import plotly as py',\n",
              " 'import spacy',\n",
              " 'import re',\n",
              " 'import tensorflow as tf',\n",
              " 'import matplotlib.pyplot as plt',\n",
              " 'import xgboost as xgb',\n",
              " 'import glob',\n",
              " 'import sys',\n",
              " 'from pathlib import Path',\n",
              " 'from openpyxl import load_workbook',\n",
              " 'from sklearn.ensemble import GradientBoostingClassifier',\n",
              " 'import os',\n",
              " 'import pickle',\n",
              " 'from dask import dataframe as dd',\n",
              " 'import pandas as pd',\n",
              " 'import plotly.graph_objs as go',\n",
              " 'import tqdm',\n",
              " 'import datetime as dt',\n",
              " 'import bokeh',\n",
              " 'import statistics',\n",
              " 'import pydot',\n",
              " 'import nltk',\n",
              " 'from sklearn.manifold import TSNE',\n",
              " 'import numpy as np',\n",
              " 'import gensim',\n",
              " 'from sklearn.preprocessing import OneHotEncoder',\n",
              " 'from sklearn.model_selection import train_test_split',\n",
              " 'import keras',\n",
              " 'import altair as alt',\n",
              " 'import sklearn',\n",
              " 'import plotly.express as px',\n",
              " 'from sklearn.feature_extraction.text import TfidfVectorizer',\n",
              " 'import lightgbm as lgb',\n",
              " 'from sklearn import svm',\n",
              " 'import matplotlib as mpl']"
            ]
          },
          "metadata": {
            "tags": []
          },
          "execution_count": 9
        }
      ]
    },
    {
      "cell_type": "markdown",
      "metadata": {
        "id": "jtXhcVEumlD5"
      },
      "source": [
        "Although its quite wasteful to import so many libraries, most of which we'll not even use. But its good to know that we can do this and `pyforest` is actually importing these libraries using the most commonly used aliases which is a good feature to have."
      ]
    },
    {
      "cell_type": "markdown",
      "metadata": {
        "id": "bIR0JIZ368yo"
      },
      "source": [
        "# Train test split"
      ]
    },
    {
      "cell_type": "code",
      "metadata": {
        "id": "0rRKVBsxouwW"
      },
      "source": [
        "# train, validate, test = np.split(\n",
        "#      df.sample(frac=1, random_state=SEED),\n",
        "#      [int(.7*len(df)), int(.85*len(df))]\n",
        "# )"
      ],
      "execution_count": 10,
      "outputs": []
    },
    {
      "cell_type": "code",
      "metadata": {
        "id": "7hnMyD4QdCXe"
      },
      "source": [
        "from sklearn.model_selection import train_test_split\n",
        "X_train, X_test, y_train, y_test = train_test_split(X, y,test_size=.7,random_state =123, stratify=y)"
      ],
      "execution_count": 11,
      "outputs": []
    },
    {
      "cell_type": "code",
      "metadata": {
        "id": "0n4ZESTk6cmO",
        "colab": {
          "base_uri": "https://localhost:8080/"
        },
        "outputId": "eb339ba8-34b7-4a1c-d2fa-66e0129c1b70"
      },
      "source": [
        "X_train.shape, X_test.shape"
      ],
      "execution_count": 12,
      "outputs": [
        {
          "output_type": "execute_result",
          "data": {
            "text/plain": [
              "((45, 4), (105, 4))"
            ]
          },
          "metadata": {
            "tags": []
          },
          "execution_count": 12
        }
      ]
    },
    {
      "cell_type": "markdown",
      "metadata": {
        "id": "nDfRhDFI7Xeh"
      },
      "source": [
        "We will not apply any feature engineering but let's just standardize the data."
      ]
    },
    {
      "cell_type": "code",
      "metadata": {
        "id": "gvK3Kdzc7QD8"
      },
      "source": [
        "# y_train = train.species\n",
        "# X_train = train.drop(labels=['species'], axis=1)\n",
        "# X_train.shape, y_train.shape"
      ],
      "execution_count": 13,
      "outputs": []
    },
    {
      "cell_type": "code",
      "metadata": {
        "id": "irzKyg5v78aI"
      },
      "source": [
        "# y_val = validate.species\n",
        "# X_val = validate.drop(labels=['species'], axis=1)\n",
        "# y_test = test.species\n",
        "# X_test = test.drop(labels=['species'], axis=1)"
      ],
      "execution_count": 14,
      "outputs": []
    },
    {
      "cell_type": "markdown",
      "metadata": {
        "id": "KuHuvEVoAOa5"
      },
      "source": [
        "# Modeling"
      ]
    },
    {
      "cell_type": "code",
      "metadata": {
        "id": "8-NYDB2TATOa",
        "colab": {
          "base_uri": "https://localhost:8080/"
        },
        "outputId": "ad0fcd86-9a61-4067-adab-17cb5aa1a57f"
      },
      "source": [
        "!pip install lazypredict"
      ],
      "execution_count": 15,
      "outputs": [
        {
          "output_type": "stream",
          "text": [
            "Requirement already satisfied: lazypredict in /usr/local/lib/python3.7/dist-packages (0.2.9)\n",
            "Requirement already satisfied: pytest==5.4.3 in /usr/local/lib/python3.7/dist-packages (from lazypredict) (5.4.3)\n",
            "Requirement already satisfied: pandas==1.0.5 in /usr/local/lib/python3.7/dist-packages (from lazypredict) (1.0.5)\n",
            "Requirement already satisfied: scikit-learn==0.23.1 in /usr/local/lib/python3.7/dist-packages (from lazypredict) (0.23.1)\n",
            "Requirement already satisfied: joblib==1.0.0 in /usr/local/lib/python3.7/dist-packages (from lazypredict) (1.0.0)\n",
            "Requirement already satisfied: PyYAML==5.3.1 in /usr/local/lib/python3.7/dist-packages (from lazypredict) (5.3.1)\n",
            "Requirement already satisfied: xgboost==1.1.1 in /usr/local/lib/python3.7/dist-packages (from lazypredict) (1.1.1)\n",
            "Requirement already satisfied: lightgbm==2.3.1 in /usr/local/lib/python3.7/dist-packages (from lazypredict) (2.3.1)\n",
            "Requirement already satisfied: tqdm==4.56.0 in /usr/local/lib/python3.7/dist-packages (from lazypredict) (4.56.0)\n",
            "Requirement already satisfied: numpy==1.19.1 in /usr/local/lib/python3.7/dist-packages (from lazypredict) (1.19.1)\n",
            "Requirement already satisfied: click==7.1.2 in /usr/local/lib/python3.7/dist-packages (from lazypredict) (7.1.2)\n",
            "Requirement already satisfied: scipy==1.5.4 in /usr/local/lib/python3.7/dist-packages (from lazypredict) (1.5.4)\n",
            "Requirement already satisfied: six==1.15.0 in /usr/local/lib/python3.7/dist-packages (from lazypredict) (1.15.0)\n",
            "Requirement already satisfied: attrs>=17.4.0 in /usr/local/lib/python3.7/dist-packages (from pytest==5.4.3->lazypredict) (20.3.0)\n",
            "Requirement already satisfied: wcwidth in /usr/local/lib/python3.7/dist-packages (from pytest==5.4.3->lazypredict) (0.2.5)\n",
            "Requirement already satisfied: packaging in /usr/local/lib/python3.7/dist-packages (from pytest==5.4.3->lazypredict) (20.9)\n",
            "Requirement already satisfied: importlib-metadata>=0.12; python_version < \"3.8\" in /usr/local/lib/python3.7/dist-packages (from pytest==5.4.3->lazypredict) (3.7.2)\n",
            "Requirement already satisfied: py>=1.5.0 in /usr/local/lib/python3.7/dist-packages (from pytest==5.4.3->lazypredict) (1.10.0)\n",
            "Requirement already satisfied: more-itertools>=4.0.0 in /usr/local/lib/python3.7/dist-packages (from pytest==5.4.3->lazypredict) (8.7.0)\n",
            "Requirement already satisfied: pluggy<1.0,>=0.12 in /usr/local/lib/python3.7/dist-packages (from pytest==5.4.3->lazypredict) (0.13.1)\n",
            "Requirement already satisfied: pytz>=2017.2 in /usr/local/lib/python3.7/dist-packages (from pandas==1.0.5->lazypredict) (2018.9)\n",
            "Requirement already satisfied: python-dateutil>=2.6.1 in /usr/local/lib/python3.7/dist-packages (from pandas==1.0.5->lazypredict) (2.8.1)\n",
            "Requirement already satisfied: threadpoolctl>=2.0.0 in /usr/local/lib/python3.7/dist-packages (from scikit-learn==0.23.1->lazypredict) (2.1.0)\n",
            "Requirement already satisfied: pyparsing>=2.0.2 in /usr/local/lib/python3.7/dist-packages (from packaging->pytest==5.4.3->lazypredict) (2.4.7)\n",
            "Requirement already satisfied: typing-extensions>=3.6.4; python_version < \"3.8\" in /usr/local/lib/python3.7/dist-packages (from importlib-metadata>=0.12; python_version < \"3.8\"->pytest==5.4.3->lazypredict) (3.7.4.3)\n",
            "Requirement already satisfied: zipp>=0.5 in /usr/local/lib/python3.7/dist-packages (from importlib-metadata>=0.12; python_version < \"3.8\"->pytest==5.4.3->lazypredict) (3.4.1)\n"
          ],
          "name": "stdout"
        }
      ]
    },
    {
      "cell_type": "code",
      "metadata": {
        "id": "x25VGNvq_059"
      },
      "source": [
        "import lazypredict\n",
        "from lazypredict.Supervised import LazyClassifier"
      ],
      "execution_count": 16,
      "outputs": []
    },
    {
      "cell_type": "code",
      "metadata": {
        "id": "ieqJ2gAGARt5",
        "colab": {
          "base_uri": "https://localhost:8080/"
        },
        "outputId": "1ffef99b-97de-4ed2-d368-cea17c8fd1c3"
      },
      "source": [
        "clf = LazyClassifier(verbose=0,ignore_warnings=True, custom_metric=None)\n",
        "models1, predictions1 = clf.fit(X_train, X_test, y_train, y_test)"
      ],
      "execution_count": 17,
      "outputs": [
        {
          "output_type": "stream",
          "text": [
            "100%|██████████| 29/29 [00:01<00:00, 27.92it/s]\n"
          ],
          "name": "stderr"
        }
      ]
    },
    {
      "cell_type": "code",
      "metadata": {
        "id": "nYugwR2bXZNl",
        "colab": {
          "base_uri": "https://localhost:8080/",
          "height": 927
        },
        "outputId": "fd6ad6f4-175d-4779-e32f-b9285ff92f94"
      },
      "source": [
        "models1"
      ],
      "execution_count": 18,
      "outputs": [
        {
          "output_type": "execute_result",
          "data": {
            "text/html": [
              "<div>\n",
              "<style scoped>\n",
              "    .dataframe tbody tr th:only-of-type {\n",
              "        vertical-align: middle;\n",
              "    }\n",
              "\n",
              "    .dataframe tbody tr th {\n",
              "        vertical-align: top;\n",
              "    }\n",
              "\n",
              "    .dataframe thead th {\n",
              "        text-align: right;\n",
              "    }\n",
              "</style>\n",
              "<table border=\"1\" class=\"dataframe\">\n",
              "  <thead>\n",
              "    <tr style=\"text-align: right;\">\n",
              "      <th></th>\n",
              "      <th>Accuracy</th>\n",
              "      <th>Balanced Accuracy</th>\n",
              "      <th>ROC AUC</th>\n",
              "      <th>F1 Score</th>\n",
              "      <th>Time Taken</th>\n",
              "    </tr>\n",
              "    <tr>\n",
              "      <th>Model</th>\n",
              "      <th></th>\n",
              "      <th></th>\n",
              "      <th></th>\n",
              "      <th></th>\n",
              "      <th></th>\n",
              "    </tr>\n",
              "  </thead>\n",
              "  <tbody>\n",
              "    <tr>\n",
              "      <th>LinearDiscriminantAnalysis</th>\n",
              "      <td>0.95</td>\n",
              "      <td>0.95</td>\n",
              "      <td>None</td>\n",
              "      <td>0.95</td>\n",
              "      <td>0.02</td>\n",
              "    </tr>\n",
              "    <tr>\n",
              "      <th>QuadraticDiscriminantAnalysis</th>\n",
              "      <td>0.95</td>\n",
              "      <td>0.95</td>\n",
              "      <td>None</td>\n",
              "      <td>0.95</td>\n",
              "      <td>0.02</td>\n",
              "    </tr>\n",
              "    <tr>\n",
              "      <th>NuSVC</th>\n",
              "      <td>0.94</td>\n",
              "      <td>0.94</td>\n",
              "      <td>None</td>\n",
              "      <td>0.94</td>\n",
              "      <td>0.02</td>\n",
              "    </tr>\n",
              "    <tr>\n",
              "      <th>SVC</th>\n",
              "      <td>0.94</td>\n",
              "      <td>0.94</td>\n",
              "      <td>None</td>\n",
              "      <td>0.94</td>\n",
              "      <td>0.01</td>\n",
              "    </tr>\n",
              "    <tr>\n",
              "      <th>GaussianNB</th>\n",
              "      <td>0.94</td>\n",
              "      <td>0.94</td>\n",
              "      <td>None</td>\n",
              "      <td>0.94</td>\n",
              "      <td>0.02</td>\n",
              "    </tr>\n",
              "    <tr>\n",
              "      <th>LabelPropagation</th>\n",
              "      <td>0.94</td>\n",
              "      <td>0.94</td>\n",
              "      <td>None</td>\n",
              "      <td>0.94</td>\n",
              "      <td>0.02</td>\n",
              "    </tr>\n",
              "    <tr>\n",
              "      <th>LabelSpreading</th>\n",
              "      <td>0.94</td>\n",
              "      <td>0.94</td>\n",
              "      <td>None</td>\n",
              "      <td>0.94</td>\n",
              "      <td>0.02</td>\n",
              "    </tr>\n",
              "    <tr>\n",
              "      <th>LogisticRegression</th>\n",
              "      <td>0.94</td>\n",
              "      <td>0.94</td>\n",
              "      <td>None</td>\n",
              "      <td>0.94</td>\n",
              "      <td>0.04</td>\n",
              "    </tr>\n",
              "    <tr>\n",
              "      <th>RandomForestClassifier</th>\n",
              "      <td>0.93</td>\n",
              "      <td>0.93</td>\n",
              "      <td>None</td>\n",
              "      <td>0.93</td>\n",
              "      <td>0.19</td>\n",
              "    </tr>\n",
              "    <tr>\n",
              "      <th>ExtraTreesClassifier</th>\n",
              "      <td>0.93</td>\n",
              "      <td>0.93</td>\n",
              "      <td>None</td>\n",
              "      <td>0.93</td>\n",
              "      <td>0.14</td>\n",
              "    </tr>\n",
              "    <tr>\n",
              "      <th>XGBClassifier</th>\n",
              "      <td>0.92</td>\n",
              "      <td>0.92</td>\n",
              "      <td>None</td>\n",
              "      <td>0.92</td>\n",
              "      <td>0.05</td>\n",
              "    </tr>\n",
              "    <tr>\n",
              "      <th>KNeighborsClassifier</th>\n",
              "      <td>0.91</td>\n",
              "      <td>0.91</td>\n",
              "      <td>None</td>\n",
              "      <td>0.91</td>\n",
              "      <td>0.02</td>\n",
              "    </tr>\n",
              "    <tr>\n",
              "      <th>LinearSVC</th>\n",
              "      <td>0.90</td>\n",
              "      <td>0.90</td>\n",
              "      <td>None</td>\n",
              "      <td>0.90</td>\n",
              "      <td>0.02</td>\n",
              "    </tr>\n",
              "    <tr>\n",
              "      <th>DecisionTreeClassifier</th>\n",
              "      <td>0.90</td>\n",
              "      <td>0.90</td>\n",
              "      <td>None</td>\n",
              "      <td>0.90</td>\n",
              "      <td>0.02</td>\n",
              "    </tr>\n",
              "    <tr>\n",
              "      <th>ExtraTreeClassifier</th>\n",
              "      <td>0.90</td>\n",
              "      <td>0.90</td>\n",
              "      <td>None</td>\n",
              "      <td>0.89</td>\n",
              "      <td>0.02</td>\n",
              "    </tr>\n",
              "    <tr>\n",
              "      <th>BaggingClassifier</th>\n",
              "      <td>0.90</td>\n",
              "      <td>0.90</td>\n",
              "      <td>None</td>\n",
              "      <td>0.89</td>\n",
              "      <td>0.04</td>\n",
              "    </tr>\n",
              "    <tr>\n",
              "      <th>AdaBoostClassifier</th>\n",
              "      <td>0.89</td>\n",
              "      <td>0.89</td>\n",
              "      <td>None</td>\n",
              "      <td>0.88</td>\n",
              "      <td>0.11</td>\n",
              "    </tr>\n",
              "    <tr>\n",
              "      <th>LGBMClassifier</th>\n",
              "      <td>0.86</td>\n",
              "      <td>0.86</td>\n",
              "      <td>None</td>\n",
              "      <td>0.85</td>\n",
              "      <td>0.04</td>\n",
              "    </tr>\n",
              "    <tr>\n",
              "      <th>CalibratedClassifierCV</th>\n",
              "      <td>0.86</td>\n",
              "      <td>0.86</td>\n",
              "      <td>None</td>\n",
              "      <td>0.86</td>\n",
              "      <td>0.05</td>\n",
              "    </tr>\n",
              "    <tr>\n",
              "      <th>RidgeClassifier</th>\n",
              "      <td>0.83</td>\n",
              "      <td>0.83</td>\n",
              "      <td>None</td>\n",
              "      <td>0.83</td>\n",
              "      <td>0.02</td>\n",
              "    </tr>\n",
              "    <tr>\n",
              "      <th>Perceptron</th>\n",
              "      <td>0.82</td>\n",
              "      <td>0.82</td>\n",
              "      <td>None</td>\n",
              "      <td>0.82</td>\n",
              "      <td>0.01</td>\n",
              "    </tr>\n",
              "    <tr>\n",
              "      <th>NearestCentroid</th>\n",
              "      <td>0.82</td>\n",
              "      <td>0.82</td>\n",
              "      <td>None</td>\n",
              "      <td>0.82</td>\n",
              "      <td>0.02</td>\n",
              "    </tr>\n",
              "    <tr>\n",
              "      <th>PassiveAggressiveClassifier</th>\n",
              "      <td>0.82</td>\n",
              "      <td>0.82</td>\n",
              "      <td>None</td>\n",
              "      <td>0.81</td>\n",
              "      <td>0.02</td>\n",
              "    </tr>\n",
              "    <tr>\n",
              "      <th>RidgeClassifierCV</th>\n",
              "      <td>0.80</td>\n",
              "      <td>0.80</td>\n",
              "      <td>None</td>\n",
              "      <td>0.80</td>\n",
              "      <td>0.02</td>\n",
              "    </tr>\n",
              "    <tr>\n",
              "      <th>SGDClassifier</th>\n",
              "      <td>0.80</td>\n",
              "      <td>0.80</td>\n",
              "      <td>None</td>\n",
              "      <td>0.80</td>\n",
              "      <td>0.02</td>\n",
              "    </tr>\n",
              "    <tr>\n",
              "      <th>BernoulliNB</th>\n",
              "      <td>0.75</td>\n",
              "      <td>0.75</td>\n",
              "      <td>None</td>\n",
              "      <td>0.73</td>\n",
              "      <td>0.02</td>\n",
              "    </tr>\n",
              "    <tr>\n",
              "      <th>DummyClassifier</th>\n",
              "      <td>0.34</td>\n",
              "      <td>0.34</td>\n",
              "      <td>None</td>\n",
              "      <td>0.34</td>\n",
              "      <td>0.02</td>\n",
              "    </tr>\n",
              "  </tbody>\n",
              "</table>\n",
              "</div>"
            ],
            "text/plain": [
              "                               Accuracy  ...  Time Taken\n",
              "Model                                    ...            \n",
              "LinearDiscriminantAnalysis         0.95  ...        0.02\n",
              "QuadraticDiscriminantAnalysis      0.95  ...        0.02\n",
              "NuSVC                              0.94  ...        0.02\n",
              "SVC                                0.94  ...        0.01\n",
              "GaussianNB                         0.94  ...        0.02\n",
              "LabelPropagation                   0.94  ...        0.02\n",
              "LabelSpreading                     0.94  ...        0.02\n",
              "LogisticRegression                 0.94  ...        0.04\n",
              "RandomForestClassifier             0.93  ...        0.19\n",
              "ExtraTreesClassifier               0.93  ...        0.14\n",
              "XGBClassifier                      0.92  ...        0.05\n",
              "KNeighborsClassifier               0.91  ...        0.02\n",
              "LinearSVC                          0.90  ...        0.02\n",
              "DecisionTreeClassifier             0.90  ...        0.02\n",
              "ExtraTreeClassifier                0.90  ...        0.02\n",
              "BaggingClassifier                  0.90  ...        0.04\n",
              "AdaBoostClassifier                 0.89  ...        0.11\n",
              "LGBMClassifier                     0.86  ...        0.04\n",
              "CalibratedClassifierCV             0.86  ...        0.05\n",
              "RidgeClassifier                    0.83  ...        0.02\n",
              "Perceptron                         0.82  ...        0.01\n",
              "NearestCentroid                    0.82  ...        0.02\n",
              "PassiveAggressiveClassifier        0.82  ...        0.02\n",
              "RidgeClassifierCV                  0.80  ...        0.02\n",
              "SGDClassifier                      0.80  ...        0.02\n",
              "BernoulliNB                        0.75  ...        0.02\n",
              "DummyClassifier                    0.34  ...        0.02\n",
              "\n",
              "[27 rows x 5 columns]"
            ]
          },
          "metadata": {
            "tags": []
          },
          "execution_count": 18
        }
      ]
    },
    {
      "cell_type": "code",
      "metadata": {
        "id": "luf4XkiaYXZO",
        "colab": {
          "base_uri": "https://localhost:8080/"
        },
        "outputId": "90673730-eeda-43e1-9d12-4754f87d6026"
      },
      "source": [
        "models1.Accuracy.mean()"
      ],
      "execution_count": 19,
      "outputs": [
        {
          "output_type": "execute_result",
          "data": {
            "text/plain": [
              "0.868430335097002"
            ]
          },
          "metadata": {
            "tags": []
          },
          "execution_count": 19
        }
      ]
    },
    {
      "cell_type": "code",
      "metadata": {
        "id": "moJxs5DqBYpa"
      },
      "source": [
        "# from lazypredict.Supervised import LazyClassifier\n",
        "# from sklearn.datasets import load_iris\n",
        "# from sklearn.model_selection import train_test_split\n",
        "\n",
        "# data = load_iris()\n",
        "# X = data.data\n",
        "# y= data.target\n",
        "\n",
        "# X_train, X_test, y_train, y_test = train_test_split(X, y,test_size=.5,random_state =123)\n",
        "\n",
        "# clf = LazyClassifier(verbose=0,ignore_warnings=True, custom_metric=None)\n",
        "# models,predictions = clf.fit(X_train, X_test, y_train, y_test)\n",
        "# models"
      ],
      "execution_count": 20,
      "outputs": []
    },
    {
      "cell_type": "markdown",
      "metadata": {
        "id": "Py4FpZV0AM0A"
      },
      "source": [
        "Lets see if scaling helps or not"
      ]
    },
    {
      "cell_type": "markdown",
      "metadata": {
        "id": "7Z0zSV3n8SFl"
      },
      "source": [
        "# Scaling"
      ]
    },
    {
      "cell_type": "code",
      "metadata": {
        "id": "VUuuFPuO8QJZ"
      },
      "source": [
        "from sklearn.preprocessing import StandardScaler"
      ],
      "execution_count": 21,
      "outputs": []
    },
    {
      "cell_type": "code",
      "metadata": {
        "id": "5VRaDnOA-iiP"
      },
      "source": [
        "scaler = StandardScaler()"
      ],
      "execution_count": 22,
      "outputs": []
    },
    {
      "cell_type": "code",
      "metadata": {
        "id": "ce9FGvAc-p8-"
      },
      "source": [
        "scaler.fit(X_train)\n",
        "X_train = scaler.transform(X_train)\n",
        "X_test = scaler.transform(X_test)\n",
        "# X_val = scaler.transform(X_val)"
      ],
      "execution_count": 23,
      "outputs": []
    },
    {
      "cell_type": "code",
      "metadata": {
        "id": "_Icejkca-744",
        "colab": {
          "base_uri": "https://localhost:8080/"
        },
        "outputId": "e1a53a48-d81e-4b5f-8500-ffc3be17c266"
      },
      "source": [
        "X_train[:5]"
      ],
      "execution_count": 24,
      "outputs": [
        {
          "output_type": "execute_result",
          "data": {
            "text/plain": [
              "array([[ 0.99714929,  0.15149439,  1.05037919,  1.44505218],\n",
              "       [-0.15933829,  1.79703694, -1.17596801, -1.1412628 ],\n",
              "       [-0.50628456,  1.56195944, -1.29013966, -1.26442066],\n",
              "       [-0.04368953, -0.78881563,  0.07992016, -0.0328421 ],\n",
              "       [-0.15933829, -0.55373813,  0.42243511,  0.09031576]])"
            ]
          },
          "metadata": {
            "tags": []
          },
          "execution_count": 24
        }
      ]
    },
    {
      "cell_type": "code",
      "metadata": {
        "id": "xGUJqJHNFTmR",
        "colab": {
          "base_uri": "https://localhost:8080/",
          "height": 946
        },
        "outputId": "9e15bc89-7d6b-4a0e-dd41-19330e3f4ce9"
      },
      "source": [
        "clf = LazyClassifier(verbose=0,ignore_warnings=True, custom_metric=None)\n",
        "models2, predictions2 = clf.fit(X_train, X_test, y_train, y_test)\n",
        "models2"
      ],
      "execution_count": 25,
      "outputs": [
        {
          "output_type": "stream",
          "text": [
            "100%|██████████| 29/29 [00:01<00:00, 27.35it/s]\n"
          ],
          "name": "stderr"
        },
        {
          "output_type": "execute_result",
          "data": {
            "text/html": [
              "<div>\n",
              "<style scoped>\n",
              "    .dataframe tbody tr th:only-of-type {\n",
              "        vertical-align: middle;\n",
              "    }\n",
              "\n",
              "    .dataframe tbody tr th {\n",
              "        vertical-align: top;\n",
              "    }\n",
              "\n",
              "    .dataframe thead th {\n",
              "        text-align: right;\n",
              "    }\n",
              "</style>\n",
              "<table border=\"1\" class=\"dataframe\">\n",
              "  <thead>\n",
              "    <tr style=\"text-align: right;\">\n",
              "      <th></th>\n",
              "      <th>Accuracy</th>\n",
              "      <th>Balanced Accuracy</th>\n",
              "      <th>ROC AUC</th>\n",
              "      <th>F1 Score</th>\n",
              "      <th>Time Taken</th>\n",
              "    </tr>\n",
              "    <tr>\n",
              "      <th>Model</th>\n",
              "      <th></th>\n",
              "      <th></th>\n",
              "      <th></th>\n",
              "      <th></th>\n",
              "      <th></th>\n",
              "    </tr>\n",
              "  </thead>\n",
              "  <tbody>\n",
              "    <tr>\n",
              "      <th>LinearDiscriminantAnalysis</th>\n",
              "      <td>0.95</td>\n",
              "      <td>0.95</td>\n",
              "      <td>None</td>\n",
              "      <td>0.95</td>\n",
              "      <td>0.02</td>\n",
              "    </tr>\n",
              "    <tr>\n",
              "      <th>QuadraticDiscriminantAnalysis</th>\n",
              "      <td>0.95</td>\n",
              "      <td>0.95</td>\n",
              "      <td>None</td>\n",
              "      <td>0.95</td>\n",
              "      <td>0.02</td>\n",
              "    </tr>\n",
              "    <tr>\n",
              "      <th>NuSVC</th>\n",
              "      <td>0.94</td>\n",
              "      <td>0.94</td>\n",
              "      <td>None</td>\n",
              "      <td>0.94</td>\n",
              "      <td>0.02</td>\n",
              "    </tr>\n",
              "    <tr>\n",
              "      <th>SVC</th>\n",
              "      <td>0.94</td>\n",
              "      <td>0.94</td>\n",
              "      <td>None</td>\n",
              "      <td>0.94</td>\n",
              "      <td>0.02</td>\n",
              "    </tr>\n",
              "    <tr>\n",
              "      <th>GaussianNB</th>\n",
              "      <td>0.94</td>\n",
              "      <td>0.94</td>\n",
              "      <td>None</td>\n",
              "      <td>0.94</td>\n",
              "      <td>0.02</td>\n",
              "    </tr>\n",
              "    <tr>\n",
              "      <th>LabelPropagation</th>\n",
              "      <td>0.94</td>\n",
              "      <td>0.94</td>\n",
              "      <td>None</td>\n",
              "      <td>0.94</td>\n",
              "      <td>0.02</td>\n",
              "    </tr>\n",
              "    <tr>\n",
              "      <th>LabelSpreading</th>\n",
              "      <td>0.94</td>\n",
              "      <td>0.94</td>\n",
              "      <td>None</td>\n",
              "      <td>0.94</td>\n",
              "      <td>0.02</td>\n",
              "    </tr>\n",
              "    <tr>\n",
              "      <th>LogisticRegression</th>\n",
              "      <td>0.94</td>\n",
              "      <td>0.94</td>\n",
              "      <td>None</td>\n",
              "      <td>0.94</td>\n",
              "      <td>0.04</td>\n",
              "    </tr>\n",
              "    <tr>\n",
              "      <th>RandomForestClassifier</th>\n",
              "      <td>0.93</td>\n",
              "      <td>0.93</td>\n",
              "      <td>None</td>\n",
              "      <td>0.93</td>\n",
              "      <td>0.21</td>\n",
              "    </tr>\n",
              "    <tr>\n",
              "      <th>ExtraTreesClassifier</th>\n",
              "      <td>0.93</td>\n",
              "      <td>0.93</td>\n",
              "      <td>None</td>\n",
              "      <td>0.93</td>\n",
              "      <td>0.14</td>\n",
              "    </tr>\n",
              "    <tr>\n",
              "      <th>XGBClassifier</th>\n",
              "      <td>0.92</td>\n",
              "      <td>0.92</td>\n",
              "      <td>None</td>\n",
              "      <td>0.92</td>\n",
              "      <td>0.04</td>\n",
              "    </tr>\n",
              "    <tr>\n",
              "      <th>KNeighborsClassifier</th>\n",
              "      <td>0.91</td>\n",
              "      <td>0.91</td>\n",
              "      <td>None</td>\n",
              "      <td>0.91</td>\n",
              "      <td>0.02</td>\n",
              "    </tr>\n",
              "    <tr>\n",
              "      <th>LinearSVC</th>\n",
              "      <td>0.90</td>\n",
              "      <td>0.90</td>\n",
              "      <td>None</td>\n",
              "      <td>0.90</td>\n",
              "      <td>0.02</td>\n",
              "    </tr>\n",
              "    <tr>\n",
              "      <th>DecisionTreeClassifier</th>\n",
              "      <td>0.90</td>\n",
              "      <td>0.90</td>\n",
              "      <td>None</td>\n",
              "      <td>0.90</td>\n",
              "      <td>0.02</td>\n",
              "    </tr>\n",
              "    <tr>\n",
              "      <th>ExtraTreeClassifier</th>\n",
              "      <td>0.90</td>\n",
              "      <td>0.90</td>\n",
              "      <td>None</td>\n",
              "      <td>0.89</td>\n",
              "      <td>0.01</td>\n",
              "    </tr>\n",
              "    <tr>\n",
              "      <th>BaggingClassifier</th>\n",
              "      <td>0.90</td>\n",
              "      <td>0.90</td>\n",
              "      <td>None</td>\n",
              "      <td>0.89</td>\n",
              "      <td>0.04</td>\n",
              "    </tr>\n",
              "    <tr>\n",
              "      <th>AdaBoostClassifier</th>\n",
              "      <td>0.89</td>\n",
              "      <td>0.89</td>\n",
              "      <td>None</td>\n",
              "      <td>0.88</td>\n",
              "      <td>0.15</td>\n",
              "    </tr>\n",
              "    <tr>\n",
              "      <th>LGBMClassifier</th>\n",
              "      <td>0.86</td>\n",
              "      <td>0.86</td>\n",
              "      <td>None</td>\n",
              "      <td>0.85</td>\n",
              "      <td>0.04</td>\n",
              "    </tr>\n",
              "    <tr>\n",
              "      <th>CalibratedClassifierCV</th>\n",
              "      <td>0.86</td>\n",
              "      <td>0.86</td>\n",
              "      <td>None</td>\n",
              "      <td>0.86</td>\n",
              "      <td>0.05</td>\n",
              "    </tr>\n",
              "    <tr>\n",
              "      <th>RidgeClassifier</th>\n",
              "      <td>0.83</td>\n",
              "      <td>0.83</td>\n",
              "      <td>None</td>\n",
              "      <td>0.83</td>\n",
              "      <td>0.02</td>\n",
              "    </tr>\n",
              "    <tr>\n",
              "      <th>Perceptron</th>\n",
              "      <td>0.82</td>\n",
              "      <td>0.82</td>\n",
              "      <td>None</td>\n",
              "      <td>0.82</td>\n",
              "      <td>0.02</td>\n",
              "    </tr>\n",
              "    <tr>\n",
              "      <th>NearestCentroid</th>\n",
              "      <td>0.82</td>\n",
              "      <td>0.82</td>\n",
              "      <td>None</td>\n",
              "      <td>0.82</td>\n",
              "      <td>0.02</td>\n",
              "    </tr>\n",
              "    <tr>\n",
              "      <th>PassiveAggressiveClassifier</th>\n",
              "      <td>0.82</td>\n",
              "      <td>0.82</td>\n",
              "      <td>None</td>\n",
              "      <td>0.81</td>\n",
              "      <td>0.02</td>\n",
              "    </tr>\n",
              "    <tr>\n",
              "      <th>RidgeClassifierCV</th>\n",
              "      <td>0.80</td>\n",
              "      <td>0.80</td>\n",
              "      <td>None</td>\n",
              "      <td>0.80</td>\n",
              "      <td>0.02</td>\n",
              "    </tr>\n",
              "    <tr>\n",
              "      <th>SGDClassifier</th>\n",
              "      <td>0.80</td>\n",
              "      <td>0.80</td>\n",
              "      <td>None</td>\n",
              "      <td>0.80</td>\n",
              "      <td>0.02</td>\n",
              "    </tr>\n",
              "    <tr>\n",
              "      <th>BernoulliNB</th>\n",
              "      <td>0.75</td>\n",
              "      <td>0.75</td>\n",
              "      <td>None</td>\n",
              "      <td>0.73</td>\n",
              "      <td>0.01</td>\n",
              "    </tr>\n",
              "    <tr>\n",
              "      <th>DummyClassifier</th>\n",
              "      <td>0.34</td>\n",
              "      <td>0.34</td>\n",
              "      <td>None</td>\n",
              "      <td>0.34</td>\n",
              "      <td>0.01</td>\n",
              "    </tr>\n",
              "  </tbody>\n",
              "</table>\n",
              "</div>"
            ],
            "text/plain": [
              "                               Accuracy  ...  Time Taken\n",
              "Model                                    ...            \n",
              "LinearDiscriminantAnalysis         0.95  ...        0.02\n",
              "QuadraticDiscriminantAnalysis      0.95  ...        0.02\n",
              "NuSVC                              0.94  ...        0.02\n",
              "SVC                                0.94  ...        0.02\n",
              "GaussianNB                         0.94  ...        0.02\n",
              "LabelPropagation                   0.94  ...        0.02\n",
              "LabelSpreading                     0.94  ...        0.02\n",
              "LogisticRegression                 0.94  ...        0.04\n",
              "RandomForestClassifier             0.93  ...        0.21\n",
              "ExtraTreesClassifier               0.93  ...        0.14\n",
              "XGBClassifier                      0.92  ...        0.04\n",
              "KNeighborsClassifier               0.91  ...        0.02\n",
              "LinearSVC                          0.90  ...        0.02\n",
              "DecisionTreeClassifier             0.90  ...        0.02\n",
              "ExtraTreeClassifier                0.90  ...        0.01\n",
              "BaggingClassifier                  0.90  ...        0.04\n",
              "AdaBoostClassifier                 0.89  ...        0.15\n",
              "LGBMClassifier                     0.86  ...        0.04\n",
              "CalibratedClassifierCV             0.86  ...        0.05\n",
              "RidgeClassifier                    0.83  ...        0.02\n",
              "Perceptron                         0.82  ...        0.02\n",
              "NearestCentroid                    0.82  ...        0.02\n",
              "PassiveAggressiveClassifier        0.82  ...        0.02\n",
              "RidgeClassifierCV                  0.80  ...        0.02\n",
              "SGDClassifier                      0.80  ...        0.02\n",
              "BernoulliNB                        0.75  ...        0.01\n",
              "DummyClassifier                    0.34  ...        0.01\n",
              "\n",
              "[27 rows x 5 columns]"
            ]
          },
          "metadata": {
            "tags": []
          },
          "execution_count": 25
        }
      ]
    },
    {
      "cell_type": "code",
      "metadata": {
        "id": "FdxG0Z6_Yijk",
        "colab": {
          "base_uri": "https://localhost:8080/"
        },
        "outputId": "2eb3198f-58cd-4c09-89e9-c92db04a3203"
      },
      "source": [
        "models2.Accuracy.mean()"
      ],
      "execution_count": 26,
      "outputs": [
        {
          "output_type": "execute_result",
          "data": {
            "text/plain": [
              "0.868430335097002"
            ]
          },
          "metadata": {
            "tags": []
          },
          "execution_count": 26
        }
      ]
    },
    {
      "cell_type": "code",
      "metadata": {
        "id": "XcgfZmWJfe-3"
      },
      "source": [
        "mask = models2.Accuracy > models1.Accuracy"
      ],
      "execution_count": 27,
      "outputs": []
    },
    {
      "cell_type": "code",
      "metadata": {
        "id": "WeLYEsLOgRvK",
        "colab": {
          "base_uri": "https://localhost:8080/",
          "height": 81
        },
        "outputId": "4344e648-4bb2-439b-ff0e-0376baf5b86a"
      },
      "source": [
        "models2.loc[mask]"
      ],
      "execution_count": 28,
      "outputs": [
        {
          "output_type": "execute_result",
          "data": {
            "text/html": [
              "<div>\n",
              "<style scoped>\n",
              "    .dataframe tbody tr th:only-of-type {\n",
              "        vertical-align: middle;\n",
              "    }\n",
              "\n",
              "    .dataframe tbody tr th {\n",
              "        vertical-align: top;\n",
              "    }\n",
              "\n",
              "    .dataframe thead th {\n",
              "        text-align: right;\n",
              "    }\n",
              "</style>\n",
              "<table border=\"1\" class=\"dataframe\">\n",
              "  <thead>\n",
              "    <tr style=\"text-align: right;\">\n",
              "      <th></th>\n",
              "      <th>Accuracy</th>\n",
              "      <th>Balanced Accuracy</th>\n",
              "      <th>ROC AUC</th>\n",
              "      <th>F1 Score</th>\n",
              "      <th>Time Taken</th>\n",
              "    </tr>\n",
              "    <tr>\n",
              "      <th>Model</th>\n",
              "      <th></th>\n",
              "      <th></th>\n",
              "      <th></th>\n",
              "      <th></th>\n",
              "      <th></th>\n",
              "    </tr>\n",
              "  </thead>\n",
              "  <tbody>\n",
              "  </tbody>\n",
              "</table>\n",
              "</div>"
            ],
            "text/plain": [
              "Empty DataFrame\n",
              "Columns: [Accuracy, Balanced Accuracy, ROC AUC, F1 Score, Time Taken]\n",
              "Index: []"
            ]
          },
          "metadata": {
            "tags": []
          },
          "execution_count": 28
        }
      ]
    },
    {
      "cell_type": "markdown",
      "metadata": {
        "id": "3n13r9DSgvs9"
      },
      "source": [
        "So, not even a single model gained anything from standardization."
      ]
    },
    {
      "cell_type": "markdown",
      "metadata": {
        "id": "GH9pZaiLAU2V"
      },
      "source": [
        "# Regression Problem"
      ]
    },
    {
      "cell_type": "code",
      "metadata": {
        "id": "lY8oa3RwgppL",
        "outputId": "cb06cc4e-b00b-436c-807c-bb26f133a365",
        "colab": {
          "base_uri": "https://localhost:8080/",
          "height": 1000
        }
      },
      "source": [
        "from lazypredict.Supervised import LazyRegressor\n",
        "from sklearn.datasets import load_boston\n",
        "from sklearn.utils import shuffle\n",
        "\n",
        "boston = load_boston()\n",
        "X, y = shuffle(boston.data, boston.target, random_state=13)\n",
        "X = X.astype(np.float32)\n",
        "\n",
        "offset = int(X.shape[0] * 0.8)\n",
        "\n",
        "X_train, y_train = X[:offset], y[:offset]\n",
        "X_test, y_test = X[offset:], y[offset:]\n",
        "\n",
        "reg = LazyRegressor(verbose=0, ignore_warnings=False, custom_metric=None)\n",
        "models3, predictions3 = reg.fit(X_train, X_test, y_train, y_test)\n",
        "\n",
        "models3"
      ],
      "execution_count": 29,
      "outputs": [
        {
          "output_type": "display_data",
          "data": {
            "application/javascript": [
              "\n",
              "        if (window._pyforest_update_imports_cell) { window._pyforest_update_imports_cell('import numpy as np'); }\n",
              "    "
            ],
            "text/plain": [
              "<IPython.core.display.Javascript object>"
            ]
          },
          "metadata": {
            "tags": []
          }
        },
        {
          "output_type": "stream",
          "text": [
            "100%|██████████| 42/42 [00:04<00:00,  9.14it/s]\n"
          ],
          "name": "stderr"
        },
        {
          "output_type": "execute_result",
          "data": {
            "text/html": [
              "<div>\n",
              "<style scoped>\n",
              "    .dataframe tbody tr th:only-of-type {\n",
              "        vertical-align: middle;\n",
              "    }\n",
              "\n",
              "    .dataframe tbody tr th {\n",
              "        vertical-align: top;\n",
              "    }\n",
              "\n",
              "    .dataframe thead th {\n",
              "        text-align: right;\n",
              "    }\n",
              "</style>\n",
              "<table border=\"1\" class=\"dataframe\">\n",
              "  <thead>\n",
              "    <tr style=\"text-align: right;\">\n",
              "      <th></th>\n",
              "      <th>Adjusted R-Squared</th>\n",
              "      <th>R-Squared</th>\n",
              "      <th>RMSE</th>\n",
              "      <th>Time Taken</th>\n",
              "    </tr>\n",
              "    <tr>\n",
              "      <th>Model</th>\n",
              "      <th></th>\n",
              "      <th></th>\n",
              "      <th></th>\n",
              "      <th></th>\n",
              "    </tr>\n",
              "  </thead>\n",
              "  <tbody>\n",
              "    <tr>\n",
              "      <th>GradientBoostingRegressor</th>\n",
              "      <td>0.90</td>\n",
              "      <td>0.92</td>\n",
              "      <td>2.76</td>\n",
              "      <td>0.19</td>\n",
              "    </tr>\n",
              "    <tr>\n",
              "      <th>LGBMRegressor</th>\n",
              "      <td>0.88</td>\n",
              "      <td>0.89</td>\n",
              "      <td>3.11</td>\n",
              "      <td>0.11</td>\n",
              "    </tr>\n",
              "    <tr>\n",
              "      <th>HistGradientBoostingRegressor</th>\n",
              "      <td>0.87</td>\n",
              "      <td>0.89</td>\n",
              "      <td>3.15</td>\n",
              "      <td>0.48</td>\n",
              "    </tr>\n",
              "    <tr>\n",
              "      <th>ExtraTreesRegressor</th>\n",
              "      <td>0.86</td>\n",
              "      <td>0.88</td>\n",
              "      <td>3.33</td>\n",
              "      <td>0.37</td>\n",
              "    </tr>\n",
              "    <tr>\n",
              "      <th>RandomForestRegressor</th>\n",
              "      <td>0.85</td>\n",
              "      <td>0.87</td>\n",
              "      <td>3.43</td>\n",
              "      <td>0.42</td>\n",
              "    </tr>\n",
              "    <tr>\n",
              "      <th>AdaBoostRegressor</th>\n",
              "      <td>0.84</td>\n",
              "      <td>0.86</td>\n",
              "      <td>3.55</td>\n",
              "      <td>0.14</td>\n",
              "    </tr>\n",
              "    <tr>\n",
              "      <th>XGBRegressor</th>\n",
              "      <td>0.84</td>\n",
              "      <td>0.86</td>\n",
              "      <td>3.57</td>\n",
              "      <td>0.13</td>\n",
              "    </tr>\n",
              "    <tr>\n",
              "      <th>BaggingRegressor</th>\n",
              "      <td>0.81</td>\n",
              "      <td>0.83</td>\n",
              "      <td>3.87</td>\n",
              "      <td>0.07</td>\n",
              "    </tr>\n",
              "    <tr>\n",
              "      <th>KNeighborsRegressor</th>\n",
              "      <td>0.71</td>\n",
              "      <td>0.75</td>\n",
              "      <td>4.73</td>\n",
              "      <td>0.03</td>\n",
              "    </tr>\n",
              "    <tr>\n",
              "      <th>PoissonRegressor</th>\n",
              "      <td>0.69</td>\n",
              "      <td>0.73</td>\n",
              "      <td>4.92</td>\n",
              "      <td>0.02</td>\n",
              "    </tr>\n",
              "    <tr>\n",
              "      <th>DecisionTreeRegressor</th>\n",
              "      <td>0.65</td>\n",
              "      <td>0.69</td>\n",
              "      <td>5.26</td>\n",
              "      <td>0.02</td>\n",
              "    </tr>\n",
              "    <tr>\n",
              "      <th>LinearRegression</th>\n",
              "      <td>0.60</td>\n",
              "      <td>0.66</td>\n",
              "      <td>5.57</td>\n",
              "      <td>0.02</td>\n",
              "    </tr>\n",
              "    <tr>\n",
              "      <th>TransformedTargetRegressor</th>\n",
              "      <td>0.60</td>\n",
              "      <td>0.66</td>\n",
              "      <td>5.57</td>\n",
              "      <td>0.01</td>\n",
              "    </tr>\n",
              "    <tr>\n",
              "      <th>Ridge</th>\n",
              "      <td>0.60</td>\n",
              "      <td>0.65</td>\n",
              "      <td>5.58</td>\n",
              "      <td>0.01</td>\n",
              "    </tr>\n",
              "    <tr>\n",
              "      <th>LassoCV</th>\n",
              "      <td>0.60</td>\n",
              "      <td>0.65</td>\n",
              "      <td>5.60</td>\n",
              "      <td>0.14</td>\n",
              "    </tr>\n",
              "    <tr>\n",
              "      <th>LassoLarsCV</th>\n",
              "      <td>0.60</td>\n",
              "      <td>0.65</td>\n",
              "      <td>5.60</td>\n",
              "      <td>0.06</td>\n",
              "    </tr>\n",
              "    <tr>\n",
              "      <th>BayesianRidge</th>\n",
              "      <td>0.60</td>\n",
              "      <td>0.65</td>\n",
              "      <td>5.62</td>\n",
              "      <td>0.02</td>\n",
              "    </tr>\n",
              "    <tr>\n",
              "      <th>ElasticNetCV</th>\n",
              "      <td>0.59</td>\n",
              "      <td>0.65</td>\n",
              "      <td>5.64</td>\n",
              "      <td>0.09</td>\n",
              "    </tr>\n",
              "    <tr>\n",
              "      <th>RidgeCV</th>\n",
              "      <td>0.59</td>\n",
              "      <td>0.65</td>\n",
              "      <td>5.64</td>\n",
              "      <td>0.02</td>\n",
              "    </tr>\n",
              "    <tr>\n",
              "      <th>SGDRegressor</th>\n",
              "      <td>0.59</td>\n",
              "      <td>0.64</td>\n",
              "      <td>5.68</td>\n",
              "      <td>0.02</td>\n",
              "    </tr>\n",
              "    <tr>\n",
              "      <th>ExtraTreeRegressor</th>\n",
              "      <td>0.59</td>\n",
              "      <td>0.64</td>\n",
              "      <td>5.69</td>\n",
              "      <td>0.02</td>\n",
              "    </tr>\n",
              "    <tr>\n",
              "      <th>MLPRegressor</th>\n",
              "      <td>0.58</td>\n",
              "      <td>0.63</td>\n",
              "      <td>5.76</td>\n",
              "      <td>1.39</td>\n",
              "    </tr>\n",
              "    <tr>\n",
              "      <th>Lars</th>\n",
              "      <td>0.57</td>\n",
              "      <td>0.62</td>\n",
              "      <td>5.82</td>\n",
              "      <td>0.08</td>\n",
              "    </tr>\n",
              "    <tr>\n",
              "      <th>SVR</th>\n",
              "      <td>0.56</td>\n",
              "      <td>0.62</td>\n",
              "      <td>5.86</td>\n",
              "      <td>0.03</td>\n",
              "    </tr>\n",
              "    <tr>\n",
              "      <th>LassoLarsIC</th>\n",
              "      <td>0.56</td>\n",
              "      <td>0.62</td>\n",
              "      <td>5.89</td>\n",
              "      <td>0.03</td>\n",
              "    </tr>\n",
              "    <tr>\n",
              "      <th>LarsCV</th>\n",
              "      <td>0.55</td>\n",
              "      <td>0.61</td>\n",
              "      <td>5.91</td>\n",
              "      <td>0.07</td>\n",
              "    </tr>\n",
              "    <tr>\n",
              "      <th>NuSVR</th>\n",
              "      <td>0.54</td>\n",
              "      <td>0.60</td>\n",
              "      <td>5.99</td>\n",
              "      <td>0.06</td>\n",
              "    </tr>\n",
              "    <tr>\n",
              "      <th>HuberRegressor</th>\n",
              "      <td>0.52</td>\n",
              "      <td>0.58</td>\n",
              "      <td>6.14</td>\n",
              "      <td>0.03</td>\n",
              "    </tr>\n",
              "    <tr>\n",
              "      <th>OrthogonalMatchingPursuitCV</th>\n",
              "      <td>0.52</td>\n",
              "      <td>0.58</td>\n",
              "      <td>6.15</td>\n",
              "      <td>0.04</td>\n",
              "    </tr>\n",
              "    <tr>\n",
              "      <th>Lasso</th>\n",
              "      <td>0.52</td>\n",
              "      <td>0.58</td>\n",
              "      <td>6.15</td>\n",
              "      <td>0.02</td>\n",
              "    </tr>\n",
              "    <tr>\n",
              "      <th>LinearSVR</th>\n",
              "      <td>0.49</td>\n",
              "      <td>0.56</td>\n",
              "      <td>6.31</td>\n",
              "      <td>0.04</td>\n",
              "    </tr>\n",
              "    <tr>\n",
              "      <th>ElasticNet</th>\n",
              "      <td>0.48</td>\n",
              "      <td>0.55</td>\n",
              "      <td>6.40</td>\n",
              "      <td>0.02</td>\n",
              "    </tr>\n",
              "    <tr>\n",
              "      <th>GammaRegressor</th>\n",
              "      <td>0.47</td>\n",
              "      <td>0.54</td>\n",
              "      <td>6.46</td>\n",
              "      <td>0.02</td>\n",
              "    </tr>\n",
              "    <tr>\n",
              "      <th>TweedieRegressor</th>\n",
              "      <td>0.46</td>\n",
              "      <td>0.53</td>\n",
              "      <td>6.52</td>\n",
              "      <td>0.02</td>\n",
              "    </tr>\n",
              "    <tr>\n",
              "      <th>GeneralizedLinearRegressor</th>\n",
              "      <td>0.46</td>\n",
              "      <td>0.53</td>\n",
              "      <td>6.52</td>\n",
              "      <td>0.02</td>\n",
              "    </tr>\n",
              "    <tr>\n",
              "      <th>OrthogonalMatchingPursuit</th>\n",
              "      <td>0.39</td>\n",
              "      <td>0.47</td>\n",
              "      <td>6.94</td>\n",
              "      <td>0.03</td>\n",
              "    </tr>\n",
              "    <tr>\n",
              "      <th>PassiveAggressiveRegressor</th>\n",
              "      <td>0.34</td>\n",
              "      <td>0.43</td>\n",
              "      <td>7.18</td>\n",
              "      <td>0.02</td>\n",
              "    </tr>\n",
              "    <tr>\n",
              "      <th>GaussianProcessRegressor</th>\n",
              "      <td>0.28</td>\n",
              "      <td>0.38</td>\n",
              "      <td>7.50</td>\n",
              "      <td>0.07</td>\n",
              "    </tr>\n",
              "    <tr>\n",
              "      <th>RANSACRegressor</th>\n",
              "      <td>0.13</td>\n",
              "      <td>0.24</td>\n",
              "      <td>8.28</td>\n",
              "      <td>0.09</td>\n",
              "    </tr>\n",
              "    <tr>\n",
              "      <th>DummyRegressor</th>\n",
              "      <td>-0.15</td>\n",
              "      <td>-0.00</td>\n",
              "      <td>9.51</td>\n",
              "      <td>0.02</td>\n",
              "    </tr>\n",
              "    <tr>\n",
              "      <th>LassoLars</th>\n",
              "      <td>-0.15</td>\n",
              "      <td>-0.00</td>\n",
              "      <td>9.51</td>\n",
              "      <td>0.02</td>\n",
              "    </tr>\n",
              "    <tr>\n",
              "      <th>KernelRidge</th>\n",
              "      <td>-6.42</td>\n",
              "      <td>-5.46</td>\n",
              "      <td>24.13</td>\n",
              "      <td>0.04</td>\n",
              "    </tr>\n",
              "  </tbody>\n",
              "</table>\n",
              "</div>"
            ],
            "text/plain": [
              "                               Adjusted R-Squared  R-Squared  RMSE  Time Taken\n",
              "Model                                                                         \n",
              "GradientBoostingRegressor                    0.90       0.92  2.76        0.19\n",
              "LGBMRegressor                                0.88       0.89  3.11        0.11\n",
              "HistGradientBoostingRegressor                0.87       0.89  3.15        0.48\n",
              "ExtraTreesRegressor                          0.86       0.88  3.33        0.37\n",
              "RandomForestRegressor                        0.85       0.87  3.43        0.42\n",
              "AdaBoostRegressor                            0.84       0.86  3.55        0.14\n",
              "XGBRegressor                                 0.84       0.86  3.57        0.13\n",
              "BaggingRegressor                             0.81       0.83  3.87        0.07\n",
              "KNeighborsRegressor                          0.71       0.75  4.73        0.03\n",
              "PoissonRegressor                             0.69       0.73  4.92        0.02\n",
              "DecisionTreeRegressor                        0.65       0.69  5.26        0.02\n",
              "LinearRegression                             0.60       0.66  5.57        0.02\n",
              "TransformedTargetRegressor                   0.60       0.66  5.57        0.01\n",
              "Ridge                                        0.60       0.65  5.58        0.01\n",
              "LassoCV                                      0.60       0.65  5.60        0.14\n",
              "LassoLarsCV                                  0.60       0.65  5.60        0.06\n",
              "BayesianRidge                                0.60       0.65  5.62        0.02\n",
              "ElasticNetCV                                 0.59       0.65  5.64        0.09\n",
              "RidgeCV                                      0.59       0.65  5.64        0.02\n",
              "SGDRegressor                                 0.59       0.64  5.68        0.02\n",
              "ExtraTreeRegressor                           0.59       0.64  5.69        0.02\n",
              "MLPRegressor                                 0.58       0.63  5.76        1.39\n",
              "Lars                                         0.57       0.62  5.82        0.08\n",
              "SVR                                          0.56       0.62  5.86        0.03\n",
              "LassoLarsIC                                  0.56       0.62  5.89        0.03\n",
              "LarsCV                                       0.55       0.61  5.91        0.07\n",
              "NuSVR                                        0.54       0.60  5.99        0.06\n",
              "HuberRegressor                               0.52       0.58  6.14        0.03\n",
              "OrthogonalMatchingPursuitCV                  0.52       0.58  6.15        0.04\n",
              "Lasso                                        0.52       0.58  6.15        0.02\n",
              "LinearSVR                                    0.49       0.56  6.31        0.04\n",
              "ElasticNet                                   0.48       0.55  6.40        0.02\n",
              "GammaRegressor                               0.47       0.54  6.46        0.02\n",
              "TweedieRegressor                             0.46       0.53  6.52        0.02\n",
              "GeneralizedLinearRegressor                   0.46       0.53  6.52        0.02\n",
              "OrthogonalMatchingPursuit                    0.39       0.47  6.94        0.03\n",
              "PassiveAggressiveRegressor                   0.34       0.43  7.18        0.02\n",
              "GaussianProcessRegressor                     0.28       0.38  7.50        0.07\n",
              "RANSACRegressor                              0.13       0.24  8.28        0.09\n",
              "DummyRegressor                              -0.15      -0.00  9.51        0.02\n",
              "LassoLars                                   -0.15      -0.00  9.51        0.02\n",
              "KernelRidge                                 -6.42      -5.46 24.13        0.04"
            ]
          },
          "metadata": {
            "tags": []
          },
          "execution_count": 29
        }
      ]
    },
    {
      "cell_type": "code",
      "metadata": {
        "id": "IQwPyoKryEtT",
        "outputId": "4a7dbded-55b6-48c3-9aa7-a6eb5656abd2",
        "colab": {
          "base_uri": "https://localhost:8080/"
        }
      },
      "source": [
        "print(f'Median of RMSE: {models3.RMSE.median()}\\nIQR of RMSE: {models3.RMSE.quantile(0.75) - models3.RMSE.quantile(0.25)}')"
      ],
      "execution_count": 30,
      "outputs": [
        {
          "output_type": "stream",
          "text": [
            "Median of RMSE: 5.7242132780652\n",
            "IQR of RMSE: 1.0355379462482652\n"
          ],
          "name": "stdout"
        }
      ]
    },
    {
      "cell_type": "code",
      "metadata": {
        "id": "Q4O6VYTjycPI"
      },
      "source": [
        "scaler.fit(X_train)\n",
        "X_train = scaler.transform(X_train)\n",
        "X_test = scaler.transform(X_test)"
      ],
      "execution_count": 31,
      "outputs": []
    },
    {
      "cell_type": "code",
      "metadata": {
        "id": "K5xV7BO3ywB0",
        "outputId": "84752cc2-27f1-4685-a8b2-bdf601d5eb03",
        "colab": {
          "base_uri": "https://localhost:8080/",
          "height": 1000
        }
      },
      "source": [
        "clf = LazyRegressor(verbose=0,ignore_warnings=True, custom_metric=None)\n",
        "models4, predictions4 = clf.fit(X_train, X_test, y_train, y_test)\n",
        "models4"
      ],
      "execution_count": 32,
      "outputs": [
        {
          "output_type": "stream",
          "text": [
            "100%|██████████| 42/42 [00:04<00:00,  9.53it/s]\n"
          ],
          "name": "stderr"
        },
        {
          "output_type": "execute_result",
          "data": {
            "text/html": [
              "<div>\n",
              "<style scoped>\n",
              "    .dataframe tbody tr th:only-of-type {\n",
              "        vertical-align: middle;\n",
              "    }\n",
              "\n",
              "    .dataframe tbody tr th {\n",
              "        vertical-align: top;\n",
              "    }\n",
              "\n",
              "    .dataframe thead th {\n",
              "        text-align: right;\n",
              "    }\n",
              "</style>\n",
              "<table border=\"1\" class=\"dataframe\">\n",
              "  <thead>\n",
              "    <tr style=\"text-align: right;\">\n",
              "      <th></th>\n",
              "      <th>Adjusted R-Squared</th>\n",
              "      <th>R-Squared</th>\n",
              "      <th>RMSE</th>\n",
              "      <th>Time Taken</th>\n",
              "    </tr>\n",
              "    <tr>\n",
              "      <th>Model</th>\n",
              "      <th></th>\n",
              "      <th></th>\n",
              "      <th></th>\n",
              "      <th></th>\n",
              "    </tr>\n",
              "  </thead>\n",
              "  <tbody>\n",
              "    <tr>\n",
              "      <th>GradientBoostingRegressor</th>\n",
              "      <td>0.90</td>\n",
              "      <td>0.92</td>\n",
              "      <td>2.76</td>\n",
              "      <td>0.20</td>\n",
              "    </tr>\n",
              "    <tr>\n",
              "      <th>LGBMRegressor</th>\n",
              "      <td>0.88</td>\n",
              "      <td>0.89</td>\n",
              "      <td>3.11</td>\n",
              "      <td>0.08</td>\n",
              "    </tr>\n",
              "    <tr>\n",
              "      <th>HistGradientBoostingRegressor</th>\n",
              "      <td>0.87</td>\n",
              "      <td>0.89</td>\n",
              "      <td>3.15</td>\n",
              "      <td>0.35</td>\n",
              "    </tr>\n",
              "    <tr>\n",
              "      <th>ExtraTreesRegressor</th>\n",
              "      <td>0.86</td>\n",
              "      <td>0.88</td>\n",
              "      <td>3.33</td>\n",
              "      <td>0.31</td>\n",
              "    </tr>\n",
              "    <tr>\n",
              "      <th>RandomForestRegressor</th>\n",
              "      <td>0.85</td>\n",
              "      <td>0.87</td>\n",
              "      <td>3.43</td>\n",
              "      <td>0.34</td>\n",
              "    </tr>\n",
              "    <tr>\n",
              "      <th>AdaBoostRegressor</th>\n",
              "      <td>0.84</td>\n",
              "      <td>0.86</td>\n",
              "      <td>3.55</td>\n",
              "      <td>0.16</td>\n",
              "    </tr>\n",
              "    <tr>\n",
              "      <th>XGBRegressor</th>\n",
              "      <td>0.84</td>\n",
              "      <td>0.86</td>\n",
              "      <td>3.57</td>\n",
              "      <td>0.10</td>\n",
              "    </tr>\n",
              "    <tr>\n",
              "      <th>BaggingRegressor</th>\n",
              "      <td>0.81</td>\n",
              "      <td>0.83</td>\n",
              "      <td>3.87</td>\n",
              "      <td>0.06</td>\n",
              "    </tr>\n",
              "    <tr>\n",
              "      <th>KNeighborsRegressor</th>\n",
              "      <td>0.71</td>\n",
              "      <td>0.75</td>\n",
              "      <td>4.73</td>\n",
              "      <td>0.02</td>\n",
              "    </tr>\n",
              "    <tr>\n",
              "      <th>PoissonRegressor</th>\n",
              "      <td>0.69</td>\n",
              "      <td>0.73</td>\n",
              "      <td>4.92</td>\n",
              "      <td>0.02</td>\n",
              "    </tr>\n",
              "    <tr>\n",
              "      <th>DecisionTreeRegressor</th>\n",
              "      <td>0.65</td>\n",
              "      <td>0.69</td>\n",
              "      <td>5.26</td>\n",
              "      <td>0.02</td>\n",
              "    </tr>\n",
              "    <tr>\n",
              "      <th>LinearRegression</th>\n",
              "      <td>0.60</td>\n",
              "      <td>0.66</td>\n",
              "      <td>5.57</td>\n",
              "      <td>0.01</td>\n",
              "    </tr>\n",
              "    <tr>\n",
              "      <th>TransformedTargetRegressor</th>\n",
              "      <td>0.60</td>\n",
              "      <td>0.66</td>\n",
              "      <td>5.57</td>\n",
              "      <td>0.01</td>\n",
              "    </tr>\n",
              "    <tr>\n",
              "      <th>Ridge</th>\n",
              "      <td>0.60</td>\n",
              "      <td>0.65</td>\n",
              "      <td>5.58</td>\n",
              "      <td>0.01</td>\n",
              "    </tr>\n",
              "    <tr>\n",
              "      <th>LassoCV</th>\n",
              "      <td>0.60</td>\n",
              "      <td>0.65</td>\n",
              "      <td>5.60</td>\n",
              "      <td>0.08</td>\n",
              "    </tr>\n",
              "    <tr>\n",
              "      <th>LassoLarsCV</th>\n",
              "      <td>0.60</td>\n",
              "      <td>0.65</td>\n",
              "      <td>5.60</td>\n",
              "      <td>0.04</td>\n",
              "    </tr>\n",
              "    <tr>\n",
              "      <th>BayesianRidge</th>\n",
              "      <td>0.60</td>\n",
              "      <td>0.65</td>\n",
              "      <td>5.62</td>\n",
              "      <td>0.01</td>\n",
              "    </tr>\n",
              "    <tr>\n",
              "      <th>ElasticNetCV</th>\n",
              "      <td>0.59</td>\n",
              "      <td>0.65</td>\n",
              "      <td>5.64</td>\n",
              "      <td>0.10</td>\n",
              "    </tr>\n",
              "    <tr>\n",
              "      <th>RidgeCV</th>\n",
              "      <td>0.59</td>\n",
              "      <td>0.65</td>\n",
              "      <td>5.64</td>\n",
              "      <td>0.01</td>\n",
              "    </tr>\n",
              "    <tr>\n",
              "      <th>SGDRegressor</th>\n",
              "      <td>0.59</td>\n",
              "      <td>0.64</td>\n",
              "      <td>5.68</td>\n",
              "      <td>0.02</td>\n",
              "    </tr>\n",
              "    <tr>\n",
              "      <th>ExtraTreeRegressor</th>\n",
              "      <td>0.59</td>\n",
              "      <td>0.64</td>\n",
              "      <td>5.69</td>\n",
              "      <td>0.01</td>\n",
              "    </tr>\n",
              "    <tr>\n",
              "      <th>MLPRegressor</th>\n",
              "      <td>0.58</td>\n",
              "      <td>0.63</td>\n",
              "      <td>5.76</td>\n",
              "      <td>1.78</td>\n",
              "    </tr>\n",
              "    <tr>\n",
              "      <th>Lars</th>\n",
              "      <td>0.57</td>\n",
              "      <td>0.62</td>\n",
              "      <td>5.82</td>\n",
              "      <td>0.02</td>\n",
              "    </tr>\n",
              "    <tr>\n",
              "      <th>SVR</th>\n",
              "      <td>0.56</td>\n",
              "      <td>0.62</td>\n",
              "      <td>5.86</td>\n",
              "      <td>0.03</td>\n",
              "    </tr>\n",
              "    <tr>\n",
              "      <th>LassoLarsIC</th>\n",
              "      <td>0.56</td>\n",
              "      <td>0.62</td>\n",
              "      <td>5.89</td>\n",
              "      <td>0.02</td>\n",
              "    </tr>\n",
              "    <tr>\n",
              "      <th>LarsCV</th>\n",
              "      <td>0.55</td>\n",
              "      <td>0.61</td>\n",
              "      <td>5.91</td>\n",
              "      <td>0.09</td>\n",
              "    </tr>\n",
              "    <tr>\n",
              "      <th>NuSVR</th>\n",
              "      <td>0.54</td>\n",
              "      <td>0.60</td>\n",
              "      <td>5.99</td>\n",
              "      <td>0.06</td>\n",
              "    </tr>\n",
              "    <tr>\n",
              "      <th>HuberRegressor</th>\n",
              "      <td>0.52</td>\n",
              "      <td>0.58</td>\n",
              "      <td>6.14</td>\n",
              "      <td>0.03</td>\n",
              "    </tr>\n",
              "    <tr>\n",
              "      <th>OrthogonalMatchingPursuitCV</th>\n",
              "      <td>0.52</td>\n",
              "      <td>0.58</td>\n",
              "      <td>6.15</td>\n",
              "      <td>0.03</td>\n",
              "    </tr>\n",
              "    <tr>\n",
              "      <th>Lasso</th>\n",
              "      <td>0.52</td>\n",
              "      <td>0.58</td>\n",
              "      <td>6.15</td>\n",
              "      <td>0.02</td>\n",
              "    </tr>\n",
              "    <tr>\n",
              "      <th>LinearSVR</th>\n",
              "      <td>0.49</td>\n",
              "      <td>0.56</td>\n",
              "      <td>6.31</td>\n",
              "      <td>0.01</td>\n",
              "    </tr>\n",
              "    <tr>\n",
              "      <th>ElasticNet</th>\n",
              "      <td>0.48</td>\n",
              "      <td>0.55</td>\n",
              "      <td>6.40</td>\n",
              "      <td>0.02</td>\n",
              "    </tr>\n",
              "    <tr>\n",
              "      <th>GammaRegressor</th>\n",
              "      <td>0.47</td>\n",
              "      <td>0.54</td>\n",
              "      <td>6.46</td>\n",
              "      <td>0.02</td>\n",
              "    </tr>\n",
              "    <tr>\n",
              "      <th>TweedieRegressor</th>\n",
              "      <td>0.46</td>\n",
              "      <td>0.53</td>\n",
              "      <td>6.52</td>\n",
              "      <td>0.01</td>\n",
              "    </tr>\n",
              "    <tr>\n",
              "      <th>GeneralizedLinearRegressor</th>\n",
              "      <td>0.46</td>\n",
              "      <td>0.53</td>\n",
              "      <td>6.52</td>\n",
              "      <td>0.04</td>\n",
              "    </tr>\n",
              "    <tr>\n",
              "      <th>OrthogonalMatchingPursuit</th>\n",
              "      <td>0.39</td>\n",
              "      <td>0.47</td>\n",
              "      <td>6.94</td>\n",
              "      <td>0.03</td>\n",
              "    </tr>\n",
              "    <tr>\n",
              "      <th>PassiveAggressiveRegressor</th>\n",
              "      <td>0.34</td>\n",
              "      <td>0.43</td>\n",
              "      <td>7.18</td>\n",
              "      <td>0.01</td>\n",
              "    </tr>\n",
              "    <tr>\n",
              "      <th>GaussianProcessRegressor</th>\n",
              "      <td>0.28</td>\n",
              "      <td>0.38</td>\n",
              "      <td>7.50</td>\n",
              "      <td>0.07</td>\n",
              "    </tr>\n",
              "    <tr>\n",
              "      <th>RANSACRegressor</th>\n",
              "      <td>0.13</td>\n",
              "      <td>0.24</td>\n",
              "      <td>8.28</td>\n",
              "      <td>0.07</td>\n",
              "    </tr>\n",
              "    <tr>\n",
              "      <th>DummyRegressor</th>\n",
              "      <td>-0.15</td>\n",
              "      <td>-0.00</td>\n",
              "      <td>9.51</td>\n",
              "      <td>0.01</td>\n",
              "    </tr>\n",
              "    <tr>\n",
              "      <th>LassoLars</th>\n",
              "      <td>-0.15</td>\n",
              "      <td>-0.00</td>\n",
              "      <td>9.51</td>\n",
              "      <td>0.02</td>\n",
              "    </tr>\n",
              "    <tr>\n",
              "      <th>KernelRidge</th>\n",
              "      <td>-6.42</td>\n",
              "      <td>-5.46</td>\n",
              "      <td>24.13</td>\n",
              "      <td>0.02</td>\n",
              "    </tr>\n",
              "  </tbody>\n",
              "</table>\n",
              "</div>"
            ],
            "text/plain": [
              "                               Adjusted R-Squared  R-Squared  RMSE  Time Taken\n",
              "Model                                                                         \n",
              "GradientBoostingRegressor                    0.90       0.92  2.76        0.20\n",
              "LGBMRegressor                                0.88       0.89  3.11        0.08\n",
              "HistGradientBoostingRegressor                0.87       0.89  3.15        0.35\n",
              "ExtraTreesRegressor                          0.86       0.88  3.33        0.31\n",
              "RandomForestRegressor                        0.85       0.87  3.43        0.34\n",
              "AdaBoostRegressor                            0.84       0.86  3.55        0.16\n",
              "XGBRegressor                                 0.84       0.86  3.57        0.10\n",
              "BaggingRegressor                             0.81       0.83  3.87        0.06\n",
              "KNeighborsRegressor                          0.71       0.75  4.73        0.02\n",
              "PoissonRegressor                             0.69       0.73  4.92        0.02\n",
              "DecisionTreeRegressor                        0.65       0.69  5.26        0.02\n",
              "LinearRegression                             0.60       0.66  5.57        0.01\n",
              "TransformedTargetRegressor                   0.60       0.66  5.57        0.01\n",
              "Ridge                                        0.60       0.65  5.58        0.01\n",
              "LassoCV                                      0.60       0.65  5.60        0.08\n",
              "LassoLarsCV                                  0.60       0.65  5.60        0.04\n",
              "BayesianRidge                                0.60       0.65  5.62        0.01\n",
              "ElasticNetCV                                 0.59       0.65  5.64        0.10\n",
              "RidgeCV                                      0.59       0.65  5.64        0.01\n",
              "SGDRegressor                                 0.59       0.64  5.68        0.02\n",
              "ExtraTreeRegressor                           0.59       0.64  5.69        0.01\n",
              "MLPRegressor                                 0.58       0.63  5.76        1.78\n",
              "Lars                                         0.57       0.62  5.82        0.02\n",
              "SVR                                          0.56       0.62  5.86        0.03\n",
              "LassoLarsIC                                  0.56       0.62  5.89        0.02\n",
              "LarsCV                                       0.55       0.61  5.91        0.09\n",
              "NuSVR                                        0.54       0.60  5.99        0.06\n",
              "HuberRegressor                               0.52       0.58  6.14        0.03\n",
              "OrthogonalMatchingPursuitCV                  0.52       0.58  6.15        0.03\n",
              "Lasso                                        0.52       0.58  6.15        0.02\n",
              "LinearSVR                                    0.49       0.56  6.31        0.01\n",
              "ElasticNet                                   0.48       0.55  6.40        0.02\n",
              "GammaRegressor                               0.47       0.54  6.46        0.02\n",
              "TweedieRegressor                             0.46       0.53  6.52        0.01\n",
              "GeneralizedLinearRegressor                   0.46       0.53  6.52        0.04\n",
              "OrthogonalMatchingPursuit                    0.39       0.47  6.94        0.03\n",
              "PassiveAggressiveRegressor                   0.34       0.43  7.18        0.01\n",
              "GaussianProcessRegressor                     0.28       0.38  7.50        0.07\n",
              "RANSACRegressor                              0.13       0.24  8.28        0.07\n",
              "DummyRegressor                              -0.15      -0.00  9.51        0.01\n",
              "LassoLars                                   -0.15      -0.00  9.51        0.02\n",
              "KernelRidge                                 -6.42      -5.46 24.13        0.02"
            ]
          },
          "metadata": {
            "tags": []
          },
          "execution_count": 32
        }
      ]
    },
    {
      "cell_type": "code",
      "metadata": {
        "id": "lEUCxpMny3Nv",
        "outputId": "925543f9-cbfa-46f0-b721-86b5a599a9d1",
        "colab": {
          "base_uri": "https://localhost:8080/"
        }
      },
      "source": [
        "print(f'Median of RMSE: {models4.RMSE.median()}\\nIQR of RMSE: {models4.RMSE.quantile(0.75) - models4.RMSE.quantile(0.25)}')"
      ],
      "execution_count": 33,
      "outputs": [
        {
          "output_type": "stream",
          "text": [
            "Median of RMSE: 5.724213281034748\n",
            "IQR of RMSE: 1.0357617491594766\n"
          ],
          "name": "stdout"
        }
      ]
    },
    {
      "cell_type": "code",
      "metadata": {
        "id": "4SEvXYjB-c1r"
      },
      "source": [
        "mask = (models4['RMSE'] < models3['RMSE'])"
      ],
      "execution_count": 49,
      "outputs": []
    },
    {
      "cell_type": "code",
      "metadata": {
        "id": "gIzUtGvLzGSo"
      },
      "source": [
        "# mask = (models4['RMSE'] < models3['RMSE']) | (models4['Adjusted R-Squared'] < models3['Adjusted R-Squared']) | (models4['R-Squared'] < models3['R-Squared'])"
      ],
      "execution_count": 50,
      "outputs": []
    },
    {
      "cell_type": "code",
      "metadata": {
        "id": "uPRt0SCLzNFA",
        "outputId": "e8d22adf-0c03-489c-e01b-905175eba7ed",
        "colab": {
          "base_uri": "https://localhost:8080/",
          "height": 520
        }
      },
      "source": [
        "models4.loc[mask]"
      ],
      "execution_count": 51,
      "outputs": [
        {
          "output_type": "execute_result",
          "data": {
            "text/html": [
              "<div>\n",
              "<style scoped>\n",
              "    .dataframe tbody tr th:only-of-type {\n",
              "        vertical-align: middle;\n",
              "    }\n",
              "\n",
              "    .dataframe tbody tr th {\n",
              "        vertical-align: top;\n",
              "    }\n",
              "\n",
              "    .dataframe thead th {\n",
              "        text-align: right;\n",
              "    }\n",
              "</style>\n",
              "<table border=\"1\" class=\"dataframe\">\n",
              "  <thead>\n",
              "    <tr style=\"text-align: right;\">\n",
              "      <th></th>\n",
              "      <th>Adjusted R-Squared</th>\n",
              "      <th>R-Squared</th>\n",
              "      <th>RMSE</th>\n",
              "      <th>Time Taken</th>\n",
              "    </tr>\n",
              "    <tr>\n",
              "      <th>Model</th>\n",
              "      <th></th>\n",
              "      <th></th>\n",
              "      <th></th>\n",
              "      <th></th>\n",
              "    </tr>\n",
              "  </thead>\n",
              "  <tbody>\n",
              "    <tr>\n",
              "      <th>RandomForestRegressor</th>\n",
              "      <td>0.85</td>\n",
              "      <td>0.87</td>\n",
              "      <td>3.43</td>\n",
              "      <td>0.34</td>\n",
              "    </tr>\n",
              "    <tr>\n",
              "      <th>BaggingRegressor</th>\n",
              "      <td>0.81</td>\n",
              "      <td>0.83</td>\n",
              "      <td>3.87</td>\n",
              "      <td>0.06</td>\n",
              "    </tr>\n",
              "    <tr>\n",
              "      <th>DecisionTreeRegressor</th>\n",
              "      <td>0.65</td>\n",
              "      <td>0.69</td>\n",
              "      <td>5.26</td>\n",
              "      <td>0.02</td>\n",
              "    </tr>\n",
              "    <tr>\n",
              "      <th>LinearRegression</th>\n",
              "      <td>0.60</td>\n",
              "      <td>0.66</td>\n",
              "      <td>5.57</td>\n",
              "      <td>0.01</td>\n",
              "    </tr>\n",
              "    <tr>\n",
              "      <th>TransformedTargetRegressor</th>\n",
              "      <td>0.60</td>\n",
              "      <td>0.66</td>\n",
              "      <td>5.57</td>\n",
              "      <td>0.01</td>\n",
              "    </tr>\n",
              "    <tr>\n",
              "      <th>LassoLarsCV</th>\n",
              "      <td>0.60</td>\n",
              "      <td>0.65</td>\n",
              "      <td>5.60</td>\n",
              "      <td>0.04</td>\n",
              "    </tr>\n",
              "    <tr>\n",
              "      <th>SVR</th>\n",
              "      <td>0.56</td>\n",
              "      <td>0.62</td>\n",
              "      <td>5.86</td>\n",
              "      <td>0.03</td>\n",
              "    </tr>\n",
              "    <tr>\n",
              "      <th>NuSVR</th>\n",
              "      <td>0.54</td>\n",
              "      <td>0.60</td>\n",
              "      <td>5.99</td>\n",
              "      <td>0.06</td>\n",
              "    </tr>\n",
              "    <tr>\n",
              "      <th>OrthogonalMatchingPursuitCV</th>\n",
              "      <td>0.52</td>\n",
              "      <td>0.58</td>\n",
              "      <td>6.15</td>\n",
              "      <td>0.03</td>\n",
              "    </tr>\n",
              "    <tr>\n",
              "      <th>ElasticNet</th>\n",
              "      <td>0.48</td>\n",
              "      <td>0.55</td>\n",
              "      <td>6.40</td>\n",
              "      <td>0.02</td>\n",
              "    </tr>\n",
              "    <tr>\n",
              "      <th>OrthogonalMatchingPursuit</th>\n",
              "      <td>0.39</td>\n",
              "      <td>0.47</td>\n",
              "      <td>6.94</td>\n",
              "      <td>0.03</td>\n",
              "    </tr>\n",
              "    <tr>\n",
              "      <th>GaussianProcessRegressor</th>\n",
              "      <td>0.28</td>\n",
              "      <td>0.38</td>\n",
              "      <td>7.50</td>\n",
              "      <td>0.07</td>\n",
              "    </tr>\n",
              "    <tr>\n",
              "      <th>RANSACRegressor</th>\n",
              "      <td>0.13</td>\n",
              "      <td>0.24</td>\n",
              "      <td>8.28</td>\n",
              "      <td>0.07</td>\n",
              "    </tr>\n",
              "    <tr>\n",
              "      <th>KernelRidge</th>\n",
              "      <td>-6.42</td>\n",
              "      <td>-5.46</td>\n",
              "      <td>24.13</td>\n",
              "      <td>0.02</td>\n",
              "    </tr>\n",
              "  </tbody>\n",
              "</table>\n",
              "</div>"
            ],
            "text/plain": [
              "                             Adjusted R-Squared  R-Squared  RMSE  Time Taken\n",
              "Model                                                                       \n",
              "RandomForestRegressor                      0.85       0.87  3.43        0.34\n",
              "BaggingRegressor                           0.81       0.83  3.87        0.06\n",
              "DecisionTreeRegressor                      0.65       0.69  5.26        0.02\n",
              "LinearRegression                           0.60       0.66  5.57        0.01\n",
              "TransformedTargetRegressor                 0.60       0.66  5.57        0.01\n",
              "LassoLarsCV                                0.60       0.65  5.60        0.04\n",
              "SVR                                        0.56       0.62  5.86        0.03\n",
              "NuSVR                                      0.54       0.60  5.99        0.06\n",
              "OrthogonalMatchingPursuitCV                0.52       0.58  6.15        0.03\n",
              "ElasticNet                                 0.48       0.55  6.40        0.02\n",
              "OrthogonalMatchingPursuit                  0.39       0.47  6.94        0.03\n",
              "GaussianProcessRegressor                   0.28       0.38  7.50        0.07\n",
              "RANSACRegressor                            0.13       0.24  8.28        0.07\n",
              "KernelRidge                               -6.42      -5.46 24.13        0.02"
            ]
          },
          "metadata": {
            "tags": []
          },
          "execution_count": 51
        }
      ]
    },
    {
      "cell_type": "code",
      "metadata": {
        "id": "vSgZwApT7zuh"
      },
      "source": [
        "# models4.where(models4.RMSE < models3.RMSE)"
      ],
      "execution_count": 47,
      "outputs": []
    },
    {
      "cell_type": "markdown",
      "metadata": {
        "id": "qzOHE7P8-rSw"
      },
      "source": [
        "The difference is so small that it is not visible in the dataframes."
      ]
    },
    {
      "cell_type": "code",
      "metadata": {
        "id": "nRrsubco-wfG"
      },
      "source": [
        "diff = 0.00001\n",
        "mask = (models4['RMSE'] - models3['RMSE'] > diff) | (models4['Adjusted R-Squared'] - models3['Adjusted R-Squared'] > diff) | (models4['R-Squared'] - models3['R-Squared'] > diff)"
      ],
      "execution_count": 58,
      "outputs": []
    },
    {
      "cell_type": "code",
      "metadata": {
        "id": "1FrFVmuX-9jO",
        "outputId": "040e049d-7319-4631-c547-82aed662030a",
        "colab": {
          "base_uri": "https://localhost:8080/",
          "height": 206
        }
      },
      "source": [
        "models4.loc[mask]"
      ],
      "execution_count": 59,
      "outputs": [
        {
          "output_type": "execute_result",
          "data": {
            "text/html": [
              "<div>\n",
              "<style scoped>\n",
              "    .dataframe tbody tr th:only-of-type {\n",
              "        vertical-align: middle;\n",
              "    }\n",
              "\n",
              "    .dataframe tbody tr th {\n",
              "        vertical-align: top;\n",
              "    }\n",
              "\n",
              "    .dataframe thead th {\n",
              "        text-align: right;\n",
              "    }\n",
              "</style>\n",
              "<table border=\"1\" class=\"dataframe\">\n",
              "  <thead>\n",
              "    <tr style=\"text-align: right;\">\n",
              "      <th></th>\n",
              "      <th>Adjusted R-Squared</th>\n",
              "      <th>R-Squared</th>\n",
              "      <th>RMSE</th>\n",
              "      <th>Time Taken</th>\n",
              "    </tr>\n",
              "    <tr>\n",
              "      <th>Model</th>\n",
              "      <th></th>\n",
              "      <th></th>\n",
              "      <th></th>\n",
              "      <th></th>\n",
              "    </tr>\n",
              "  </thead>\n",
              "  <tbody>\n",
              "    <tr>\n",
              "      <th>RandomForestRegressor</th>\n",
              "      <td>0.85</td>\n",
              "      <td>0.87</td>\n",
              "      <td>3.43</td>\n",
              "      <td>0.34</td>\n",
              "    </tr>\n",
              "    <tr>\n",
              "      <th>BaggingRegressor</th>\n",
              "      <td>0.81</td>\n",
              "      <td>0.83</td>\n",
              "      <td>3.87</td>\n",
              "      <td>0.06</td>\n",
              "    </tr>\n",
              "    <tr>\n",
              "      <th>DecisionTreeRegressor</th>\n",
              "      <td>0.65</td>\n",
              "      <td>0.69</td>\n",
              "      <td>5.26</td>\n",
              "      <td>0.02</td>\n",
              "    </tr>\n",
              "    <tr>\n",
              "      <th>KernelRidge</th>\n",
              "      <td>-6.42</td>\n",
              "      <td>-5.46</td>\n",
              "      <td>24.13</td>\n",
              "      <td>0.02</td>\n",
              "    </tr>\n",
              "  </tbody>\n",
              "</table>\n",
              "</div>"
            ],
            "text/plain": [
              "                       Adjusted R-Squared  R-Squared  RMSE  Time Taken\n",
              "Model                                                                 \n",
              "RandomForestRegressor                0.85       0.87  3.43        0.34\n",
              "BaggingRegressor                     0.81       0.83  3.87        0.06\n",
              "DecisionTreeRegressor                0.65       0.69  5.26        0.02\n",
              "KernelRidge                         -6.42      -5.46 24.13        0.02"
            ]
          },
          "metadata": {
            "tags": []
          },
          "execution_count": 59
        }
      ]
    },
    {
      "cell_type": "markdown",
      "metadata": {
        "id": "zyWo8ijj_hcn"
      },
      "source": [
        "As we can see the difference in RMSE is of the order of 10^-5."
      ]
    }
  ]
}