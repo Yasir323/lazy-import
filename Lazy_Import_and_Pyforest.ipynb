{
  "nbformat": 4,
  "nbformat_minor": 0,
  "metadata": {
    "colab": {
      "name": "Lazy Import and Pyforest.ipynb",
      "provenance": [],
      "authorship_tag": "ABX9TyPqFXU1zYBH9iieJ107OVea",
      "include_colab_link": true
    },
    "kernelspec": {
      "name": "python3",
      "display_name": "Python 3"
    },
    "language_info": {
      "name": "python"
    }
  },
  "cells": [
    {
      "cell_type": "markdown",
      "metadata": {
        "id": "view-in-github",
        "colab_type": "text"
      },
      "source": [
        "<a href=\"https://colab.research.google.com/github/Yasir323/lazy-import/blob/main/Lazy_Import_and_Pyforest.ipynb\" target=\"_parent\"><img src=\"https://colab.research.google.com/assets/colab-badge.svg\" alt=\"Open In Colab\"/></a>"
      ]
    },
    {
      "cell_type": "code",
      "metadata": {
        "id": "I6mScttMmeKj"
      },
      "source": [
        "import warnings\n",
        "warnings.filterwarnings('ignore')"
      ],
      "execution_count": 1,
      "outputs": []
    },
    {
      "cell_type": "code",
      "metadata": {
        "id": "zs8s06qKn2Qo"
      },
      "source": [
        "SEED = 42"
      ],
      "execution_count": 11,
      "outputs": []
    },
    {
      "cell_type": "markdown",
      "metadata": {
        "id": "eAcDKhiHhS9M"
      },
      "source": [
        "## Lets look for some appropriate datasets first"
      ]
    },
    {
      "cell_type": "code",
      "metadata": {
        "colab": {
          "base_uri": "https://localhost:8080/"
        },
        "id": "ALCCggNZhbP1",
        "outputId": "3db11df1-5425-4117-a74b-a893dd659682"
      },
      "source": [
        "sns.get_dataset_names()"
      ],
      "execution_count": 3,
      "outputs": [
        {
          "output_type": "execute_result",
          "data": {
            "text/plain": [
              "['anagrams',\n",
              " 'anscombe',\n",
              " 'attention',\n",
              " 'brain_networks',\n",
              " 'car_crashes',\n",
              " 'diamonds',\n",
              " 'dots',\n",
              " 'exercise',\n",
              " 'flights',\n",
              " 'fmri',\n",
              " 'gammas',\n",
              " 'geyser',\n",
              " 'iris',\n",
              " 'mpg',\n",
              " 'penguins',\n",
              " 'planets',\n",
              " 'tips',\n",
              " 'titanic']"
            ]
          },
          "metadata": {
            "tags": []
          },
          "execution_count": 3
        }
      ]
    },
    {
      "cell_type": "code",
      "metadata": {
        "id": "i1KobAjogs62"
      },
      "source": [
        "import seaborn as sns"
      ],
      "execution_count": 2,
      "outputs": []
    },
    {
      "cell_type": "code",
      "metadata": {
        "colab": {
          "base_uri": "https://localhost:8080/",
          "height": 206
        },
        "id": "1HN20-bXheqZ",
        "outputId": "b2f99357-edb6-4cef-ca37-cb53ac05db65"
      },
      "source": [
        "reg_data = sns.load_dataset('anscombe')\n",
        "reg_data.head()"
      ],
      "execution_count": 4,
      "outputs": [
        {
          "output_type": "execute_result",
          "data": {
            "text/html": [
              "<div>\n",
              "<style scoped>\n",
              "    .dataframe tbody tr th:only-of-type {\n",
              "        vertical-align: middle;\n",
              "    }\n",
              "\n",
              "    .dataframe tbody tr th {\n",
              "        vertical-align: top;\n",
              "    }\n",
              "\n",
              "    .dataframe thead th {\n",
              "        text-align: right;\n",
              "    }\n",
              "</style>\n",
              "<table border=\"1\" class=\"dataframe\">\n",
              "  <thead>\n",
              "    <tr style=\"text-align: right;\">\n",
              "      <th></th>\n",
              "      <th>dataset</th>\n",
              "      <th>x</th>\n",
              "      <th>y</th>\n",
              "    </tr>\n",
              "  </thead>\n",
              "  <tbody>\n",
              "    <tr>\n",
              "      <th>0</th>\n",
              "      <td>I</td>\n",
              "      <td>10.0</td>\n",
              "      <td>8.04</td>\n",
              "    </tr>\n",
              "    <tr>\n",
              "      <th>1</th>\n",
              "      <td>I</td>\n",
              "      <td>8.0</td>\n",
              "      <td>6.95</td>\n",
              "    </tr>\n",
              "    <tr>\n",
              "      <th>2</th>\n",
              "      <td>I</td>\n",
              "      <td>13.0</td>\n",
              "      <td>7.58</td>\n",
              "    </tr>\n",
              "    <tr>\n",
              "      <th>3</th>\n",
              "      <td>I</td>\n",
              "      <td>9.0</td>\n",
              "      <td>8.81</td>\n",
              "    </tr>\n",
              "    <tr>\n",
              "      <th>4</th>\n",
              "      <td>I</td>\n",
              "      <td>11.0</td>\n",
              "      <td>8.33</td>\n",
              "    </tr>\n",
              "  </tbody>\n",
              "</table>\n",
              "</div>"
            ],
            "text/plain": [
              "  dataset     x     y\n",
              "0       I  10.0  8.04\n",
              "1       I   8.0  6.95\n",
              "2       I  13.0  7.58\n",
              "3       I   9.0  8.81\n",
              "4       I  11.0  8.33"
            ]
          },
          "metadata": {
            "tags": []
          },
          "execution_count": 4
        }
      ]
    },
    {
      "cell_type": "code",
      "metadata": {
        "colab": {
          "base_uri": "https://localhost:8080/",
          "height": 257
        },
        "id": "q3mTffPbi4vh",
        "outputId": "8447dd83-093e-418b-cc3f-310c1d9e8ae0"
      },
      "source": [
        "# Lets plot the data first\n",
        "g = sns.FacetGrid(reg_data, col=\"dataset\", hue=\"dataset\")\n",
        "g.map_dataframe(sns.scatterplot, x=\"x\", y=\"y\")\n",
        "g.set_axis_labels(\"x\", \"y\")\n",
        "g.add_legend()"
      ],
      "execution_count": 5,
      "outputs": [
        {
          "output_type": "execute_result",
          "data": {
            "text/plain": [
              "<seaborn.axisgrid.FacetGrid at 0x7f599c9709d0>"
            ]
          },
          "metadata": {
            "tags": []
          },
          "execution_count": 5
        },
        {
          "output_type": "display_data",
          "data": {
            "image/png": "[encoded data removed]",
            "text/plain": [
              "<Figure size 909.75x216 with 4 Axes>"
            ]
          },
          "metadata": {
            "tags": [],
            "needs_background": "light"
          }
        }
      ]
    },
    {
      "cell_type": "code",
      "metadata": {
        "colab": {
          "base_uri": "https://localhost:8080/",
          "height": 206
        },
        "id": "H4B-9NdLje35",
        "outputId": "a1cf2e0a-4434-445e-c293-b0be4360faf7"
      },
      "source": [
        "# Lets pick a dataset for classification as well\n",
        "clas_data = sns.load_dataset('titanic')\n",
        "clas_data.head()"
      ],
      "execution_count": 6,
      "outputs": [
        {
          "output_type": "execute_result",
          "data": {
            "text/html": [
              "<div>\n",
              "<style scoped>\n",
              "    .dataframe tbody tr th:only-of-type {\n",
              "        vertical-align: middle;\n",
              "    }\n",
              "\n",
              "    .dataframe tbody tr th {\n",
              "        vertical-align: top;\n",
              "    }\n",
              "\n",
              "    .dataframe thead th {\n",
              "        text-align: right;\n",
              "    }\n",
              "</style>\n",
              "<table border=\"1\" class=\"dataframe\">\n",
              "  <thead>\n",
              "    <tr style=\"text-align: right;\">\n",
              "      <th></th>\n",
              "      <th>survived</th>\n",
              "      <th>pclass</th>\n",
              "      <th>sex</th>\n",
              "      <th>age</th>\n",
              "      <th>sibsp</th>\n",
              "      <th>parch</th>\n",
              "      <th>fare</th>\n",
              "      <th>embarked</th>\n",
              "      <th>class</th>\n",
              "      <th>who</th>\n",
              "      <th>adult_male</th>\n",
              "      <th>deck</th>\n",
              "      <th>embark_town</th>\n",
              "      <th>alive</th>\n",
              "      <th>alone</th>\n",
              "    </tr>\n",
              "  </thead>\n",
              "  <tbody>\n",
              "    <tr>\n",
              "      <th>0</th>\n",
              "      <td>0</td>\n",
              "      <td>3</td>\n",
              "      <td>male</td>\n",
              "      <td>22.0</td>\n",
              "      <td>1</td>\n",
              "      <td>0</td>\n",
              "      <td>7.2500</td>\n",
              "      <td>S</td>\n",
              "      <td>Third</td>\n",
              "      <td>man</td>\n",
              "      <td>True</td>\n",
              "      <td>NaN</td>\n",
              "      <td>Southampton</td>\n",
              "      <td>no</td>\n",
              "      <td>False</td>\n",
              "    </tr>\n",
              "    <tr>\n",
              "      <th>1</th>\n",
              "      <td>1</td>\n",
              "      <td>1</td>\n",
              "      <td>female</td>\n",
              "      <td>38.0</td>\n",
              "      <td>1</td>\n",
              "      <td>0</td>\n",
              "      <td>71.2833</td>\n",
              "      <td>C</td>\n",
              "      <td>First</td>\n",
              "      <td>woman</td>\n",
              "      <td>False</td>\n",
              "      <td>C</td>\n",
              "      <td>Cherbourg</td>\n",
              "      <td>yes</td>\n",
              "      <td>False</td>\n",
              "    </tr>\n",
              "    <tr>\n",
              "      <th>2</th>\n",
              "      <td>1</td>\n",
              "      <td>3</td>\n",
              "      <td>female</td>\n",
              "      <td>26.0</td>\n",
              "      <td>0</td>\n",
              "      <td>0</td>\n",
              "      <td>7.9250</td>\n",
              "      <td>S</td>\n",
              "      <td>Third</td>\n",
              "      <td>woman</td>\n",
              "      <td>False</td>\n",
              "      <td>NaN</td>\n",
              "      <td>Southampton</td>\n",
              "      <td>yes</td>\n",
              "      <td>True</td>\n",
              "    </tr>\n",
              "    <tr>\n",
              "      <th>3</th>\n",
              "      <td>1</td>\n",
              "      <td>1</td>\n",
              "      <td>female</td>\n",
              "      <td>35.0</td>\n",
              "      <td>1</td>\n",
              "      <td>0</td>\n",
              "      <td>53.1000</td>\n",
              "      <td>S</td>\n",
              "      <td>First</td>\n",
              "      <td>woman</td>\n",
              "      <td>False</td>\n",
              "      <td>C</td>\n",
              "      <td>Southampton</td>\n",
              "      <td>yes</td>\n",
              "      <td>False</td>\n",
              "    </tr>\n",
              "    <tr>\n",
              "      <th>4</th>\n",
              "      <td>0</td>\n",
              "      <td>3</td>\n",
              "      <td>male</td>\n",
              "      <td>35.0</td>\n",
              "      <td>0</td>\n",
              "      <td>0</td>\n",
              "      <td>8.0500</td>\n",
              "      <td>S</td>\n",
              "      <td>Third</td>\n",
              "      <td>man</td>\n",
              "      <td>True</td>\n",
              "      <td>NaN</td>\n",
              "      <td>Southampton</td>\n",
              "      <td>no</td>\n",
              "      <td>True</td>\n",
              "    </tr>\n",
              "  </tbody>\n",
              "</table>\n",
              "</div>"
            ],
            "text/plain": [
              "   survived  pclass     sex   age  ...  deck  embark_town  alive  alone\n",
              "0         0       3    male  22.0  ...   NaN  Southampton     no  False\n",
              "1         1       1  female  38.0  ...     C    Cherbourg    yes  False\n",
              "2         1       3  female  26.0  ...   NaN  Southampton    yes   True\n",
              "3         1       1  female  35.0  ...     C  Southampton    yes  False\n",
              "4         0       3    male  35.0  ...   NaN  Southampton     no   True\n",
              "\n",
              "[5 rows x 15 columns]"
            ]
          },
          "metadata": {
            "tags": []
          },
          "execution_count": 6
        }
      ]
    },
    {
      "cell_type": "markdown",
      "metadata": {
        "id": "J7nXg5a8l8U8"
      },
      "source": [
        "# Importing everything with just one line"
      ]
    },
    {
      "cell_type": "code",
      "metadata": {
        "colab": {
          "base_uri": "https://localhost:8080/"
        },
        "id": "s9AWdaDDlk5x",
        "outputId": "daf3daef-abd6-4715-baab-8d3066454f7e"
      },
      "source": [
        "!pip install pyforest"
      ],
      "execution_count": 7,
      "outputs": [
        {
          "output_type": "stream",
          "text": [
            "Requirement already satisfied: pyforest in /usr/local/lib/python3.7/dist-packages (1.0.3)\n"
          ],
          "name": "stdout"
        }
      ]
    },
    {
      "cell_type": "code",
      "metadata": {
        "id": "vdevTDeAmFd1"
      },
      "source": [
        "import pyforest as pf"
      ],
      "execution_count": 8,
      "outputs": []
    },
    {
      "cell_type": "code",
      "metadata": {
        "colab": {
          "base_uri": "https://localhost:8080/"
        },
        "id": "rgGTEz5EmNKc",
        "outputId": "53dcd0b4-c619-491a-9a78-35ed2840d94b"
      },
      "source": [
        "# Lets check what has actually been imported for us\n",
        "pf.lazy_imports()"
      ],
      "execution_count": 9,
      "outputs": [
        {
          "output_type": "execute_result",
          "data": {
            "text/plain": [
              "['import gensim',\n",
              " 'from sklearn.feature_extraction.text import TfidfVectorizer',\n",
              " 'import pickle',\n",
              " 'import keras',\n",
              " 'from pyspark import SparkContext',\n",
              " 'import dash',\n",
              " 'import plotly as py',\n",
              " 'import sklearn',\n",
              " 'import sys',\n",
              " 'from sklearn.ensemble import RandomForestClassifier',\n",
              " 'import spacy',\n",
              " 'import re',\n",
              " 'import os',\n",
              " 'import altair as alt',\n",
              " 'from openpyxl import load_workbook',\n",
              " 'import datetime as dt',\n",
              " 'from dask import dataframe as dd',\n",
              " 'import lightgbm as lgb',\n",
              " 'from sklearn.ensemble import RandomForestRegressor',\n",
              " 'import tqdm',\n",
              " 'from sklearn.preprocessing import OneHotEncoder',\n",
              " 'import pandas as pd',\n",
              " 'import matplotlib.pyplot as plt',\n",
              " 'import plotly.graph_objs as go',\n",
              " 'from sklearn.ensemble import GradientBoostingClassifier',\n",
              " 'import numpy as np',\n",
              " 'import pydot',\n",
              " 'import statistics',\n",
              " 'import tensorflow as tf',\n",
              " 'import nltk',\n",
              " 'import plotly.express as px',\n",
              " 'import awswrangler as wr',\n",
              " 'import matplotlib as mpl',\n",
              " 'import glob',\n",
              " 'import bokeh',\n",
              " 'from sklearn.model_selection import train_test_split',\n",
              " 'from sklearn.ensemble import GradientBoostingRegressor',\n",
              " 'from pathlib import Path',\n",
              " 'import xgboost as xgb',\n",
              " 'from sklearn.manifold import TSNE',\n",
              " 'from sklearn import svm',\n",
              " 'import seaborn as sns']"
            ]
          },
          "metadata": {
            "tags": []
          },
          "execution_count": 9
        }
      ]
    },
    {
      "cell_type": "markdown",
      "metadata": {
        "id": "jtXhcVEumlD5"
      },
      "source": [
        "Although its quite wasteful to import so many libraries, most of which we'll not even use. But its good to know that we can do this and `pyforest` is actually importing these libraries using the most commonly used aliases which is a good feature to have."
      ]
    },
    {
      "cell_type": "markdown",
      "metadata": {
        "id": "cDF9SLRXnp4T"
      },
      "source": [
        "# Classification Problem"
      ]
    },
    {
      "cell_type": "code",
      "metadata": {
        "colab": {
          "base_uri": "https://localhost:8080/"
        },
        "id": "-LgczuZtnium",
        "outputId": "641af9ad-130c-442a-ba2b-a0c7bcefe3b6"
      },
      "source": [
        "clas_data.info()"
      ],
      "execution_count": 10,
      "outputs": [
        {
          "output_type": "stream",
          "text": [
            "<class 'pandas.core.frame.DataFrame'>\n",
            "RangeIndex: 891 entries, 0 to 890\n",
            "Data columns (total 15 columns):\n",
            " #   Column       Non-Null Count  Dtype   \n",
            "---  ------       --------------  -----   \n",
            " 0   survived     891 non-null    int64   \n",
            " 1   pclass       891 non-null    int64   \n",
            " 2   sex          891 non-null    object  \n",
            " 3   age          714 non-null    float64 \n",
            " 4   sibsp        891 non-null    int64   \n",
            " 5   parch        891 non-null    int64   \n",
            " 6   fare         891 non-null    float64 \n",
            " 7   embarked     889 non-null    object  \n",
            " 8   class        891 non-null    category\n",
            " 9   who          891 non-null    object  \n",
            " 10  adult_male   891 non-null    bool    \n",
            " 11  deck         203 non-null    category\n",
            " 12  embark_town  889 non-null    object  \n",
            " 13  alive        891 non-null    object  \n",
            " 14  alone        891 non-null    bool    \n",
            "dtypes: bool(2), category(2), float64(2), int64(4), object(5)\n",
            "memory usage: 80.6+ KB\n"
          ],
          "name": "stdout"
        }
      ]
    },
    {
      "cell_type": "code",
      "metadata": {
        "colab": {
          "base_uri": "https://localhost:8080/",
          "height": 17
        },
        "id": "0rRKVBsxouwW",
        "outputId": "3c4e0c60-5b8c-4cca-9e6f-c63cd33efc9e"
      },
      "source": [
        "# Train test val split\n",
        "train, validate, test = np.split(\n",
        "     clas_data.sample(frac=1, random_state=SEED),\n",
        "     [int(.7*len(clas_data)), int(.85*len(clas_data))]\n",
        ")"
      ],
      "execution_count": 12,
      "outputs": [
        {
          "output_type": "display_data",
          "data": {
            "application/javascript": [
              "\n",
              "        if (window._pyforest_update_imports_cell) { window._pyforest_update_imports_cell('import numpy as np'); }\n",
              "    "
            ],
            "text/plain": [
              "<IPython.core.display.Javascript object>"
            ]
          },
          "metadata": {
            "tags": []
          }
        }
      ]
    },
    {
      "cell_type": "code",
      "metadata": {
        "colab": {
          "base_uri": "https://localhost:8080/"
        },
        "id": "WuUagjqtpj1o",
        "outputId": "eb21bbbf-e002-4705-ed28-c745bf126d8a"
      },
      "source": [
        "train.shape[0], validate.shape[0], test.shape[0]"
      ],
      "execution_count": 13,
      "outputs": [
        {
          "output_type": "execute_result",
          "data": {
            "text/plain": [
              "(623, 134, 134)"
            ]
          },
          "metadata": {
            "tags": []
          },
          "execution_count": 13
        }
      ]
    },
    {
      "cell_type": "code",
      "metadata": {
        "colab": {
          "base_uri": "https://localhost:8080/"
        },
        "id": "DvKr6wrLsTUz",
        "outputId": "1399f372-ee0f-490a-b0e0-81cee04a80e5"
      },
      "source": [
        "y_train = train.survived\n",
        "X_train = train.drop('survived', axis=1)\n",
        "y_train.shape"
      ],
      "execution_count": 14,
      "outputs": [
        {
          "output_type": "execute_result",
          "data": {
            "text/plain": [
              "(623,)"
            ]
          },
          "metadata": {
            "tags": []
          },
          "execution_count": 14
        }
      ]
    },
    {
      "cell_type": "code",
      "metadata": {
        "id": "oFnQby1CtEh3"
      },
      "source": [
        "y_val = validate.survived\n",
        "X_val = validate.drop('survived', axis=1)"
      ],
      "execution_count": 15,
      "outputs": []
    },
    {
      "cell_type": "code",
      "metadata": {
        "id": "ZnN_GMLwtNAD"
      },
      "source": [
        "y_test = test.survived\n",
        "X_test = test.drop('survived', axis=1)"
      ],
      "execution_count": 16,
      "outputs": []
    },
    {
      "cell_type": "markdown",
      "metadata": {
        "id": "i4BydG5HsQQF"
      },
      "source": [
        "We might wanna do some feature engineering if we are to compare all the models because some don't work well with missing values, some with categorical variables and so on..."
      ]
    },
    {
      "cell_type": "code",
      "metadata": {
        "id": "H8JBcZQTptj4"
      },
      "source": [
        "dfs = [X_train, X_val, X_test]\n",
        "df_names = ['Training set', 'Validation set', 'Test set']"
      ],
      "execution_count": 21,
      "outputs": []
    },
    {
      "cell_type": "markdown",
      "metadata": {
        "id": "Dk0EDJlew37J"
      },
      "source": [
        "## Missing values"
      ]
    },
    {
      "cell_type": "code",
      "metadata": {
        "id": "LfOmYq3Hw2Yb"
      },
      "source": [
        "def display_missing(df):    \n",
        "    for col in df.columns.tolist():\n",
        "        print('{}: {}'.format(col, df[col].isnull().sum()))\n",
        "    print()"
      ],
      "execution_count": 28,
      "outputs": []
    },
    {
      "cell_type": "code",
      "metadata": {
        "colab": {
          "base_uri": "https://localhost:8080/"
        },
        "id": "xwzkHuasxF1q",
        "outputId": "a89280e7-2ed7-4d29-8be1-a51a371998a6"
      },
      "source": [
        "print('Missing Values')\n",
        "print('-'*50)\n",
        "for df, df_name in zip(dfs, df_names):\n",
        "    print('{}'.format(df_name))\n",
        "    display_missing(df)"
      ],
      "execution_count": 29,
      "outputs": [
        {
          "output_type": "stream",
          "text": [
            "Missing Values\n",
            "--------------------------------------------------\n",
            "Training set\n",
            "pclass: 0\n",
            "sex: 0\n",
            "age: 129\n",
            "sibsp: 0\n",
            "parch: 0\n",
            "fare: 0\n",
            "embarked: 2\n",
            "class: 0\n",
            "who: 0\n",
            "adult_male: 0\n",
            "deck: 487\n",
            "embark_town: 2\n",
            "alive: 0\n",
            "alone: 0\n",
            "\n",
            "Validation set\n",
            "pclass: 0\n",
            "sex: 0\n",
            "age: 25\n",
            "sibsp: 0\n",
            "parch: 0\n",
            "fare: 0\n",
            "embarked: 0\n",
            "class: 0\n",
            "who: 0\n",
            "adult_male: 0\n",
            "deck: 104\n",
            "embark_town: 0\n",
            "alive: 0\n",
            "alone: 0\n",
            "\n",
            "Test set\n",
            "pclass: 0\n",
            "sex: 0\n",
            "age: 23\n",
            "sibsp: 0\n",
            "parch: 0\n",
            "fare: 0\n",
            "embarked: 0\n",
            "class: 0\n",
            "who: 0\n",
            "adult_male: 0\n",
            "deck: 97\n",
            "embark_town: 0\n",
            "alive: 0\n",
            "alone: 0\n",
            "\n"
          ],
          "name": "stdout"
        }
      ]
    },
    {
      "cell_type": "code",
      "metadata": {
        "id": "N5y6rOYMxKkk"
      },
      "source": [
        ""
      ],
      "execution_count": null,
      "outputs": []
    }
  ]
}